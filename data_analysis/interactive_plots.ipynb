{
 "cells": [
  {
   "cell_type": "code",
   "execution_count": 1,
   "metadata": {
    "collapsed": false
   },
   "outputs": [
    {
     "name": "stderr",
     "output_type": "stream",
     "text": [
      "\n",
      "Attaching package: ‘dplyr’\n",
      "\n",
      "The following objects are masked from ‘package:stats’:\n",
      "\n",
      "    filter, lag\n",
      "\n",
      "The following objects are masked from ‘package:base’:\n",
      "\n",
      "    intersect, setdiff, setequal, union\n",
      "\n",
      "\n",
      "Attaching package: ‘tidyr’\n",
      "\n",
      "The following object is masked from ‘package:reshape2’:\n",
      "\n",
      "    smiths\n",
      "\n"
     ]
    }
   ],
   "source": [
    "source(\"qa_plot_functions.R\")\n",
    "library(reshape2)\n",
    "library(tidyr)"
   ]
  },
  {
   "cell_type": "markdown",
   "metadata": {},
   "source": [
    "## Download the pheno data to get ratings and other relevant info"
   ]
  },
  {
   "cell_type": "markdown",
   "metadata": {},
   "source": [
    "### Lets get the pheno file directly from the Internets!"
   ]
  },
  {
   "cell_type": "code",
   "execution_count": 2,
   "metadata": {
    "collapsed": false
   },
   "outputs": [],
   "source": [
    "pheno_df<-read.csv(\"http://s3.amazonaws.com/fcp-indi/data/Projects/ABIDE/Phenotypic_V1_0b_preprocessed1.csv\")"
   ]
  },
  {
   "cell_type": "markdown",
   "metadata": {},
   "source": [
    "### Conform the names of the raters and their ratings\n"
   ]
  },
  {
   "cell_type": "code",
   "execution_count": 3,
   "metadata": {
    "collapsed": false
   },
   "outputs": [
    {
     "data": {
      "text/html": [
       "<table>\n",
       "<thead><tr><th></th><th scope=col>Participant</th><th scope=col>SITE_ID</th><th scope=col>qc_rater_1</th><th scope=col>qc_anat_rater_2</th><th scope=col>qc_func_rater_2</th><th scope=col>qc_anat_rater_3</th><th scope=col>qc_func_rater_3</th><th scope=col>qc_rater_4</th></tr></thead>\n",
       "<tbody>\n",
       "\t<tr><th scope=row>1</th><td>50002</td><td>PITT </td><td>fail </td><td>OK   </td><td>fail </td><td>OK   </td><td>fail </td><td>OK   </td></tr>\n",
       "\t<tr><th scope=row>2</th><td>50003</td><td>PITT </td><td>OK   </td><td>OK   </td><td>OK   </td><td>OK   </td><td>OK   </td><td>OK   </td></tr>\n",
       "\t<tr><th scope=row>3</th><td>50004</td><td>PITT </td><td>OK   </td><td>OK   </td><td>OK   </td><td>OK   </td><td>OK   </td><td>OK   </td></tr>\n",
       "\t<tr><th scope=row>4</th><td>50005</td><td>PITT </td><td>OK   </td><td>OK   </td><td>fail </td><td>OK   </td><td>OK   </td><td>fail </td></tr>\n",
       "\t<tr><th scope=row>5</th><td>50006</td><td>PITT </td><td>OK   </td><td>OK   </td><td>fail </td><td>OK   </td><td>OK   </td><td>OK   </td></tr>\n",
       "\t<tr><th scope=row>6</th><td>50007</td><td>PITT </td><td>OK   </td><td>OK   </td><td>fail </td><td>OK   </td><td>OK   </td><td>OK   </td></tr>\n",
       "</tbody>\n",
       "</table>\n"
      ],
      "text/latex": [
       "\\begin{tabular}{r|llllllll}\n",
       "  & Participant & SITE\\_ID & qc\\_rater\\_1 & qc\\_anat\\_rater\\_2 & qc\\_func\\_rater\\_2 & qc\\_anat\\_rater\\_3 & qc\\_func\\_rater\\_3 & qc\\_rater\\_4\\\\\n",
       "\\hline\n",
       "\t1 & 50002 & PITT  & fail  & OK    & fail  & OK    & fail  & OK   \\\\\n",
       "\t2 & 50003 & PITT  & OK    & OK    & OK    & OK    & OK    & OK   \\\\\n",
       "\t3 & 50004 & PITT  & OK    & OK    & OK    & OK    & OK    & OK   \\\\\n",
       "\t4 & 50005 & PITT  & OK    & OK    & fail  & OK    & OK    & fail \\\\\n",
       "\t5 & 50006 & PITT  & OK    & OK    & fail  & OK    & OK    & OK   \\\\\n",
       "\t6 & 50007 & PITT  & OK    & OK    & fail  & OK    & OK    & OK   \\\\\n",
       "\\end{tabular}\n"
      ],
      "text/plain": [
       "  Participant SITE_ID qc_rater_1 qc_anat_rater_2 qc_func_rater_2\n",
       "1       50002    PITT       fail              OK            fail\n",
       "2       50003    PITT         OK              OK              OK\n",
       "3       50004    PITT         OK              OK              OK\n",
       "4       50005    PITT         OK              OK            fail\n",
       "5       50006    PITT         OK              OK            fail\n",
       "6       50007    PITT         OK              OK            fail\n",
       "  qc_anat_rater_3 qc_func_rater_3 qc_rater_4\n",
       "1              OK            fail         OK\n",
       "2              OK              OK         OK\n",
       "3              OK              OK         OK\n",
       "4              OK              OK       fail\n",
       "5              OK              OK         OK\n",
       "6              OK              OK         OK"
      ]
     },
     "metadata": {},
     "output_type": "display_data"
    }
   ],
   "source": [
    "#conform the names of the raters and their ratings\n",
    "rater_cols <- setdiff(grep(\"*rater_\", names(pheno_df)),grep(\"*notes_rater\", names(pheno_df)))\n",
    "\n",
    "# reduce to the columns of interest\n",
    "pheno_df=pheno_df[c(\"SUB_ID\",\"SITE_ID\",names(pheno_df)[rater_cols],\"SUB_IN_SMP\")]\n",
    "\n",
    "# rename SUB_IN_SMP to rater #4\n",
    "names(pheno_df)[1]=\"Participant\"\n",
    "names(pheno_df)[8]=\"qc_rater_4\"\n",
    "\n",
    "# lets be really conservative and make all \"maybe\" fail\n",
    "pheno_df[pheno_df==\"maybe\"]<-\"fail\"\n",
    "\n",
    "# rater 4 used 0s and 1s instead of OK and fail, rename them\n",
    "pheno_df$qc_rater_4=factor(pheno_df$qc_rater_4,levels=c(0,1),labels=c(\"fail\",\"OK\"))\n",
    "\n",
    "# lets code all missing values as NA, so that they can be easily ignored in future processing\n",
    "pheno_df[pheno_df==\"\"]<-NA\n",
    "\n",
    "head(pheno_df)"
   ]
  },
  {
   "cell_type": "markdown",
   "metadata": {},
   "source": [
    "### Calculate consensus ratings for the anatomical data"
   ]
  },
  {
   "cell_type": "code",
   "execution_count": 4,
   "metadata": {
    "collapsed": false
   },
   "outputs": [],
   "source": [
    "pheno_df$qc_anat<-apply(pheno_df[,c(3,4,6,8)],1, function(x) sum(x==\"OK\", na.rm=T))\n",
    "pheno_df$qc_anat<-(pheno_df$qc_anat > 2) + 1\n",
    "pheno_df$qc_anat<-factor(pheno_df$qc_anat, levels=c(1,2), labels=c(\"Fail\", \"OK\"))"
   ]
  },
  {
   "cell_type": "markdown",
   "metadata": {},
   "source": [
    "### Calculate consensus ratings for the functional data"
   ]
  },
  {
   "cell_type": "code",
   "execution_count": 5,
   "metadata": {
    "collapsed": false
   },
   "outputs": [],
   "source": [
    "pheno_df$qc_func<-apply(pheno_df[,c(3,5,7,8)],1, function(x) sum(x==\"OK\", na.rm=T))\n",
    "pheno_df$qc_func<-(pheno_df$qc_func > 2) + 1\n",
    "pheno_df$qc_func<-factor(pheno_df$qc_func, levels=c(1,2), labels=c(\"Fail\", \"OK\"))"
   ]
  },
  {
   "cell_type": "markdown",
   "metadata": {},
   "source": [
    "## Now lets process the ABIDE Anatomical QAP measures"
   ]
  },
  {
   "cell_type": "markdown",
   "metadata": {},
   "source": [
    "### Read in the QAP measures, reduce to only the columns of interest, and format for later processing"
   ]
  },
  {
   "cell_type": "code",
   "execution_count": 6,
   "metadata": {
    "collapsed": false
   },
   "outputs": [
    {
     "data": {
      "text/html": [
       "<table>\n",
       "<thead><tr><th></th><th scope=col>Participant</th><th scope=col>Site</th><th scope=col>Session</th><th scope=col>Series</th><th scope=col>qc_anat</th><th scope=col>Measure</th><th scope=col>value</th></tr></thead>\n",
       "<tbody>\n",
       "\t<tr><th scope=row>1</th><td>50002        </td><td>Pitt         </td><td>session_1    </td><td>anat_1       </td><td>OK           </td><td>CNR          </td><td>11.7376361241</td></tr>\n",
       "\t<tr><th scope=row>2</th><td>50003       </td><td>Pitt        </td><td>session_1   </td><td>anat_1      </td><td>OK          </td><td>CNR         </td><td>9.3071467169</td></tr>\n",
       "\t<tr><th scope=row>3</th><td>50004        </td><td>Pitt         </td><td>session_1    </td><td>anat_1       </td><td>OK           </td><td>CNR          </td><td>12.1887839262</td></tr>\n",
       "\t<tr><th scope=row>4</th><td>50005        </td><td>Pitt         </td><td>session_1    </td><td>anat_1       </td><td>OK           </td><td>CNR          </td><td>12.4612905509</td></tr>\n",
       "\t<tr><th scope=row>5</th><td>50006        </td><td>Pitt         </td><td>session_1    </td><td>anat_1       </td><td>OK           </td><td>CNR          </td><td>13.1485533783</td></tr>\n",
       "\t<tr><th scope=row>6</th><td>50007       </td><td>Pitt        </td><td>session_1   </td><td>anat_1      </td><td>OK          </td><td>CNR         </td><td>9.4432486559</td></tr>\n",
       "</tbody>\n",
       "</table>\n"
      ],
      "text/latex": [
       "\\begin{tabular}{r|lllllll}\n",
       "  & Participant & Site & Session & Series & qc\\_anat & Measure & value\\\\\n",
       "\\hline\n",
       "\t1 & 50002         & Pitt          & session\\_1   & anat\\_1      & OK            & CNR           & 11.7376361241\\\\\n",
       "\t2 & 50003        & Pitt         & session\\_1  & anat\\_1     & OK           & CNR          & 9.3071467169\\\\\n",
       "\t3 & 50004         & Pitt          & session\\_1   & anat\\_1      & OK            & CNR           & 12.1887839262\\\\\n",
       "\t4 & 50005         & Pitt          & session\\_1   & anat\\_1      & OK            & CNR           & 12.4612905509\\\\\n",
       "\t5 & 50006         & Pitt          & session\\_1   & anat\\_1      & OK            & CNR           & 13.1485533783\\\\\n",
       "\t6 & 50007        & Pitt         & session\\_1  & anat\\_1     & OK           & CNR          & 9.4432486559\\\\\n",
       "\\end{tabular}\n"
      ],
      "text/plain": [
       "  Participant Site   Session Series qc_anat Measure     value\n",
       "1       50002 Pitt session_1 anat_1      OK     CNR 11.737636\n",
       "2       50003 Pitt session_1 anat_1      OK     CNR  9.307147\n",
       "3       50004 Pitt session_1 anat_1      OK     CNR 12.188784\n",
       "4       50005 Pitt session_1 anat_1      OK     CNR 12.461291\n",
       "5       50006 Pitt session_1 anat_1      OK     CNR 13.148553\n",
       "6       50007 Pitt session_1 anat_1      OK     CNR  9.443249"
      ]
     },
     "metadata": {},
     "output_type": "display_data"
    }
   ],
   "source": [
    "abide_anat_spat_df<-read.csv(\"2016_05_ABIDE_qap_anatomical_spatial.csv\")\n",
    "\n",
    "abide_anat_spat_df=merge(abide_anat_spat_df, pheno_df[c('Participant','qc_anat')], by='Participant')\n",
    "\n",
    "id.vars=c('Participant','Site','Session','Series','qc_anat')\n",
    "measure.vars=c('CNR','Cortical.Contrast','EFC','FBER','FWHM','Qi1','SNR')\n",
    "abide_anat_spat_df<-abide_anat_spat_df[c(id.vars,measure.vars)]\n",
    "\n",
    "# log transform FBER to give a range more similar to the other measures\n",
    "# abide_anat_spat_df[,'FBER']<-log10(abide_anat_spat_df[,'FBER'])\n",
    "\n",
    "\n",
    "abide_anat_spat_df=melt(abide_anat_spat_df,\n",
    "                        id.vars=id.vars,\n",
    "                        measure.vars=measure.vars,\n",
    "                        variable.name=\"Measure\")\n",
    "\n",
    "head(abide_anat_spat_df)"
   ]
  },
  {
   "cell_type": "markdown",
   "metadata": {},
   "source": [
    "### Prepare for plotting by removing outliers"
   ]
  },
  {
   "cell_type": "code",
   "execution_count": 7,
   "metadata": {
    "collapsed": false
   },
   "outputs": [],
   "source": [
    "df <- abide_anat_spat_df %>% drop_na()"
   ]
  },
  {
   "cell_type": "markdown",
   "metadata": {},
   "source": [
    "### Plots"
   ]
  },
  {
   "cell_type": "code",
   "execution_count": 142,
   "metadata": {
    "collapsed": false
   },
   "outputs": [],
   "source": [
    "library(grid)\n",
    "library(gridExtra)\n",
    "library(repr)\n",
    "library(Hmisc)\n",
    "options(repr.plot.width=7, repr.plot.height=3)\n",
    "\n",
    "mean_sdlow<-function(x){\n",
    "    return(mean(x)-sd(x))\n",
    "}\n",
    "mean_sdhigh<-function(x){\n",
    "    return(mean(x)+sd(x))\n",
    "}"
   ]
  },
  {
   "cell_type": "code",
   "execution_count": 193,
   "metadata": {
    "collapsed": false,
    "scrolled": false
   },
   "outputs": [
    {
     "name": "stdout",
     "output_type": "stream",
     "text": [
      "[1] \"CNR *** pval 1.920039e-13\"\n",
      "[1] \"Cortical Contrast *** pval 5.340859e-07\"\n",
      "[1] \"EFC ** pval 1.580392e-03\"\n",
      "[1] \"FBER ** pval 2.463082e-03\"\n",
      "[1] \"Smoothness (FWHM)  pval 3.906959e-01\"\n",
      "[1] \"Fraction of Artifact Voxels *** pval 6.163532e-11\"\n",
      "[1] \"SNR *** pval 5.487315e-04\"\n"
     ]
    },
    {
     "data": {
      "image/png": "[encoded data removed]",
      "text/plain": [
       "plot without title"
      ]
     },
     "metadata": {},
     "output_type": "display_data"
    }
   ],
   "source": [
    "grid.newpage()\n",
    "ncol=7\n",
    "nrow=1\n",
    "pushViewport(viewport(layout = grid.layout(nrow, ncol)))\n",
    "vplayout <- function(x, y) viewport(layout.pos.row = x, layout.pos.col = y)\n",
    "#print(a, vp = vplayout(1, 1:2))  # key is to define vplayout\n",
    "#print(b, vp = vplayout(2, 1))\n",
    "#print(c, vp = vplayout(2, 2))\n",
    "label_strings=c('CNR','Cortical Contrast','EFC','FBER','Smoothness (FWHM)','Fraction of Artifact Voxels','SNR')\n",
    "pval_thresh=c(.05,.01,.001)\n",
    "    \n",
    "for (i in seq(1,length(measure.vars)))\n",
    "{\n",
    "    # get only the rows corresponding to this measure\n",
    "    sdf<- df %>% filter(Measure == measure.vars[i])\n",
    "    sdf_ranges <- sdf %>% \n",
    "                   group_by(qc_anat) %>% \n",
    "                     summarise(y=mean(value),y.max=mean_sdhigh(value),y.min=mean_sdlow(value)) %>% \n",
    "                         ungroup\n",
    "\n",
    "    # get the lable and annotate to indicate statistical significance of the difference\n",
    "    pval<-t.test(value~as.factor(qc_anat),data=sdf)$p.value\n",
    "    \n",
    "    pval_string=\"\"\n",
    "    for (pt in pval_thresh)\n",
    "    {\n",
    "        if(pval < pt)\n",
    "        {\n",
    "            pval_string=paste(pval_string,'*',sep='')\n",
    "        }\n",
    "        else\n",
    "        {\n",
    "            break    \n",
    "        }\n",
    "    }\n",
    "    \n",
    "    print(paste(label_strings[i],pval_string,sprintf('pval %e',pval)))\n",
    "    \n",
    "    p <- ggplot(sdf, aes(x=as.factor(qc_anat), y=value, fill=as.factor(qc_anat))) + \n",
    "        geom_boxplot(outlier.shape = NA, width=.5, fill='white') + \n",
    "        geom_point(data=sdf_ranges,aes(x=qc_anat,y=y),color=\"red\",fill=\"red\",size=1)+\n",
    "        geom_point(data=sdf_ranges,aes(x=qc_anat,y=y.max),shape=24,color=\"red\",fill=\"red\",size=1)+\n",
    "        geom_point(data=sdf_ranges,aes(x=qc_anat,y=y.min),shape=25,color=\"red\",fill=\"red\",size=1)+\n",
    "        theme_bw() +\n",
    "        ggtitle(pval_string)+\n",
    "        xlab(\"\")+\n",
    "        ylab(label_strings[i])+\n",
    "        theme(legend.position = \"none\",\n",
    "              plot.title = element_text(family = \"ArialMT\",\n",
    "                                         face = \"plain\",\n",
    "                                         size = 10,\n",
    "                                         vjust = 0),\n",
    "              axis.text.x = element_text(family = \"ArialMT\",\n",
    "                                         face = \"plain\",\n",
    "                                         size = 8, \n",
    "                                         angle = 0, \n",
    "                                         hjust = 0.5),\n",
    "              axis.text.y = element_text(family = \"ArialMT\", \n",
    "                                         face = \"plain\", \n",
    "                                         size = 8, \n",
    "                                         angle = 90, \n",
    "                                         hjust = 0.5),\n",
    "              axis.title.y = element_text(family = \"ArialMT\", \n",
    "                                          face = \"plain\", \n",
    "                                          size = 10, \n",
    "                                          angle = 90, \n",
    "                                          vjust = 0.9),\n",
    "              plot.margin = unit(c(.25, .25, 0.25, .25), \n",
    "                                 \"lines\")) +\n",
    "\n",
    "        # reduce the range to between the 2% and 98% quartiles to make the plot\n",
    "        # range more readible, do this without censoring so that the bars will go\n",
    "        # out of frame\n",
    "        coord_cartesian(ylim=with(sdf, quantile(value, probs = c(0.02,.98))))\n",
    "    \n",
    "\n",
    "    # get the location of this plot in the grid\n",
    "    x=ceiling(i/ncol)\n",
    "    y=((i-1) %% ncol)+1\n",
    "    \n",
    "    # add the plot to the grid\n",
    "    print(p, vp = vplayout(x, y))\n",
    "}"
   ]
  },
  {
   "cell_type": "code",
   "execution_count": 169,
   "metadata": {
    "collapsed": false
   },
   "outputs": [
    {
     "data": {
      "image/png": "[encoded data removed]",
      "text/plain": [
       "plot without title"
      ]
     },
     "metadata": {},
     "output_type": "display_data"
    }
   ],
   "source": [
    "p1=ggplot()+\n",
    "    geom_point(data=sdf_ranges,aes(x=qc_anat,y=y),color=\"red\",fill=\"red\")+\n",
    "    geom_point(data=sdf_ranges,aes(x=qc_anat,y=y.max),shape=24,color=\"red\",fill=\"red\")+\n",
    "    geom_point(data=sdf_ranges,aes(x=qc_anat,y=y.min),shape=25,color=\"red\",fill=\"red\")\n",
    "print(p1)"
   ]
  },
  {
   "cell_type": "code",
   "execution_count": 113,
   "metadata": {
    "collapsed": false
   },
   "outputs": [
    {
     "data": {
      "text/plain": [
       "\n",
       "\tWelch Two Sample t-test\n",
       "\n",
       "data:  value by as.factor(qc_anat)\n",
       "t = -3.0543, df = 292.75, p-value = 0.002463\n",
       "alternative hypothesis: true difference in means is not equal to 0\n",
       "95 percent confidence interval:\n",
       " -109.45350  -23.67234\n",
       "sample estimates:\n",
       "mean in group Fail   mean in group OK \n",
       "          434.8864           501.4493 \n"
      ]
     },
     "metadata": {},
     "output_type": "display_data"
    },
    {
     "data": {
      "text/html": [
       "<table>\n",
       "<thead><tr><th></th><th scope=col>qc_anat</th><th scope=col>avg</th><th scope=col>sd</th><th scope=col>q25</th><th scope=col>q50</th><th scope=col>q75</th></tr></thead>\n",
       "<tbody>\n",
       "\t<tr><th scope=row>1</th><td>Fail            </td><td>434.886410728436</td><td>244.250138655491</td><td>231.653178865525</td><td>385.50348214805 </td><td>580.05019595755 </td></tr>\n",
       "\t<tr><th scope=row>2</th><td>OK              </td><td>501.449331879401</td><td>334.534785667283</td><td>268.338257593875</td><td>357.15760786555 </td><td>722.5044658498  </td></tr>\n",
       "</tbody>\n",
       "</table>\n"
      ],
      "text/latex": [
       "\\begin{tabular}{r|llllll}\n",
       "  & qc\\_anat & avg & sd & q25 & q50 & q75\\\\\n",
       "\\hline\n",
       "\t1 & Fail             & 434.886410728436 & 244.250138655491 & 231.653178865525 & 385.50348214805  & 580.05019595755 \\\\\n",
       "\t2 & OK               & 501.449331879401 & 334.534785667283 & 268.338257593875 & 357.15760786555  & 722.5044658498  \\\\\n",
       "\\end{tabular}\n"
      ],
      "text/plain": [
       "  qc_anat      avg       sd      q25      q50      q75\n",
       "1    Fail 434.8864 244.2501 231.6532 385.5035 580.0502\n",
       "2      OK 501.4493 334.5348 268.3383 357.1576 722.5045"
      ]
     },
     "metadata": {},
     "output_type": "display_data"
    }
   ],
   "source": [
    "i=4\n",
    "sdf<- df %>% filter(Measure == measure.vars[i])\n",
    "t.test(value~as.factor(qc_anat),data=sdf)\n",
    "sdf %>% group_by(qc_anat) %>% summarise(avg=mean(value),sd=sd(value),q25=quantile(value,probs=(0.25)),q50=quantile(value,probs=(0.5)),q75=quantile(value,probs=(0.75)))\n"
   ]
  },
  {
   "cell_type": "code",
   "execution_count": null,
   "metadata": {
    "collapsed": false
   },
   "outputs": [],
   "source": [
    "plot(p[[1[]])"
   ]
  },
  {
   "cell_type": "code",
   "execution_count": 141,
   "metadata": {
    "collapsed": false
   },
   "outputs": [],
   "source": [
    "?smean.sdl\n"
   ]
  },
  {
   "cell_type": "code",
   "execution_count": 21,
   "metadata": {
    "collapsed": false
   },
   "outputs": [
    {
     "data": {
      "text/html": [
       "0.519966214327838"
      ],
      "text/latex": [
       "0.519966214327838"
      ],
      "text/markdown": [
       "0.519966214327838"
      ],
      "text/plain": [
       "[1] 0.5199662"
      ]
     },
     "metadata": {},
     "output_type": "display_data"
    },
    {
     "data": {
      "text/plain": [
       "\n",
       "\tWelch Two Sample t-test\n",
       "\n",
       "data:  x and y\n",
       "t = 1.1627, df = 9.1884, p-value = 0.2743\n",
       "alternative hypothesis: true difference in means is not equal to 0\n",
       "95 percent confidence interval:\n",
       " -2.654682  8.305496\n",
       "sample estimates:\n",
       "mean of x mean of y \n",
       " 9.818199  6.992792 \n"
      ]
     },
     "metadata": {},
     "output_type": "display_data"
    }
   ],
   "source": [
    "library(lsr)\n",
    "set.seed(45)\n",
    "x <- rnorm(10, 10, 1)\n",
    "y <- rnorm(10, 5, 5)\n",
    "cohensD(x,y)\n",
    "t.test(x,y)"
   ]
  },
  {
   "cell_type": "code",
   "execution_count": 112,
   "metadata": {
    "collapsed": false
   },
   "outputs": [
    {
     "data": {
      "text/html": [
       "<table>\n",
       "<thead><tr><th></th><th scope=col>qc_anat</th><th scope=col>avg</th><th scope=col>sd</th><th scope=col>q25</th><th scope=col>q50</th><th scope=col>q75</th></tr></thead>\n",
       "<tbody>\n",
       "\t<tr><th scope=row>1</th><td>Fail            </td><td>19.1772620679905</td><td>5.32626942416134</td><td>15.41765250435  </td><td>18.13440677625  </td><td>21.90767288585  </td></tr>\n",
       "\t<tr><th scope=row>2</th><td>OK              </td><td>20.783515046774 </td><td>6.24684801809165</td><td>16.45474154165  </td><td>18.867179952    </td><td>23.9282242726   </td></tr>\n",
       "</tbody>\n",
       "</table>\n"
      ],
      "text/latex": [
       "\\begin{tabular}{r|llllll}\n",
       "  & qc\\_anat & avg & sd & q25 & q50 & q75\\\\\n",
       "\\hline\n",
       "\t1 & Fail             & 19.1772620679905 & 5.32626942416134 & 15.41765250435   & 18.13440677625   & 21.90767288585  \\\\\n",
       "\t2 & OK               & 20.783515046774  & 6.24684801809165 & 16.45474154165   & 18.867179952     & 23.9282242726   \\\\\n",
       "\\end{tabular}\n"
      ],
      "text/plain": [
       "  qc_anat      avg       sd      q25      q50      q75\n",
       "1    Fail 19.17726 5.326269 15.41765 18.13441 21.90767\n",
       "2      OK 20.78352 6.246848 16.45474 18.86718 23.92822"
      ]
     },
     "metadata": {},
     "output_type": "display_data"
    }
   ],
   "source": [
    "sdf %>% group_by(qc_anat) %>% summarise(avg=mean(value),sd=sd(value),q25=quantile(value,probs=(0.25)),q50=quantile(value,probs=(0.5)),q75=quantile(value,probs=(0.75)))\n"
   ]
  },
  {
   "cell_type": "code",
   "execution_count": 82,
   "metadata": {
    "collapsed": false
   },
   "outputs": [
    {
     "name": "stderr",
     "output_type": "stream",
     "text": [
      "also installing the dependency ‘acepack’\n",
      "\n",
      "Updating HTML index of packages in '.Library'\n",
      "Making 'packages.html' ... done\n"
     ]
    }
   ],
   "source": [
    "install.packages(\"Hmisc\")"
   ]
  },
  {
   "cell_type": "code",
   "execution_count": 108,
   "metadata": {
    "collapsed": false
   },
   "outputs": [
    {
     "ename": "ERROR",
     "evalue": "Error in eval(expr, envir, enclos): could not find function \"ddply\"\n",
     "output_type": "error",
     "traceback": [
      "Error in eval(expr, envir, enclos): could not find function \"ddply\"\nTraceback:\n"
     ]
    }
   ],
   "source": [
    "ddply(sdf, \"qc_anat\", summarise, avg = mean(value), sd=sd(value), q=quantile(x))"
   ]
  },
  {
   "cell_type": "code",
   "execution_count": 117,
   "metadata": {
    "collapsed": false
   },
   "outputs": [],
   "source": [
    "?stat_summary"
   ]
  },
  {
   "cell_type": "code",
   "execution_count": 62,
   "metadata": {
    "collapsed": false
   },
   "outputs": [
    {
     "data": {
      "text/html": [
       "<table>\n",
       "<thead><tr><th></th><th scope=col>qc_anat</th><th scope=col>avg</th></tr></thead>\n",
       "<tbody>\n",
       "\t<tr><th scope=row>1</th><td>Fail            </td><td>8.51334176030536</td></tr>\n",
       "\t<tr><th scope=row>2</th><td>OK            </td><td>10.25409805617</td></tr>\n",
       "</tbody>\n",
       "</table>\n"
      ],
      "text/latex": [
       "\\begin{tabular}{r|ll}\n",
       "  & qc\\_anat & avg\\\\\n",
       "\\hline\n",
       "\t1 & Fail             & 8.51334176030536\\\\\n",
       "\t2 & OK             & 10.25409805617\\\\\n",
       "\\end{tabular}\n"
      ],
      "text/plain": [
       "  qc_anat       avg\n",
       "1    Fail  8.513342\n",
       "2      OK 10.254098"
      ]
     },
     "metadata": {},
     "output_type": "display_data"
    }
   ],
   "source": [
    "ungroup(means)\n"
   ]
  },
  {
   "cell_type": "code",
   "execution_count": null,
   "metadata": {
    "collapsed": true
   },
   "outputs": [],
   "source": []
  }
 ],
 "metadata": {
  "anaconda-cloud": {},
  "kernelspec": {
   "display_name": "R",
   "language": "R",
   "name": "ir"
  },
  "language_info": {
   "codemirror_mode": "r",
   "file_extension": ".r",
   "mimetype": "text/x-r-source",
   "name": "R",
   "pygments_lexer": "r",
   "version": "3.3.1"
  }
 },
 "nbformat": 4,
 "nbformat_minor": 1
}
