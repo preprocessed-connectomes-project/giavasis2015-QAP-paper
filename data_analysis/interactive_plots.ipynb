{
 "cells": [
  {
   "cell_type": "code",
   "execution_count": 13,
   "metadata": {
    "collapsed": false
   },
   "outputs": [],
   "source": [
    "source(\"qa_plot_functions.R\")\n",
    "library(reshape2)\n",
    "library(dplyr)"
   ]
  },
  {
   "cell_type": "markdown",
   "metadata": {},
   "source": [
    "## Download the pheno data to get ratings and other relevant info"
   ]
  },
  {
   "cell_type": "markdown",
   "metadata": {},
   "source": [
    "### Lets get the pheno file directly from the Internets!"
   ]
  },
  {
   "cell_type": "code",
   "execution_count": 14,
   "metadata": {
    "collapsed": false
   },
   "outputs": [],
   "source": [
    "pheno_df<-read.csv(\"http://s3.amazonaws.com/fcp-indi-new/data/Projects/ABIDE_Initiative/Phenotypic_V1_0b_preprocessed1.csv\")"
   ]
  },
  {
   "cell_type": "markdown",
   "metadata": {},
   "source": [
    "### Conform the names of the raters and their ratings\n"
   ]
  },
  {
   "cell_type": "code",
   "execution_count": 15,
   "metadata": {
    "collapsed": false
   },
   "outputs": [
    {
     "data": {
      "text/html": [
       "<table>\n",
       "<thead><tr><th></th><th scope=col>Participant</th><th scope=col>SITE_ID</th><th scope=col>qc_rater_1</th><th scope=col>qc_anat_rater_2</th><th scope=col>qc_func_rater_2</th><th scope=col>qc_anat_rater_3</th><th scope=col>qc_func_rater_3</th><th scope=col>qc_rater_4</th></tr></thead>\n",
       "<tbody>\n",
       "\t<tr><th scope=row>1</th><td>50002</td><td>PITT </td><td>fail </td><td>OK   </td><td>fail </td><td>OK   </td><td>fail </td><td>OK   </td></tr>\n",
       "\t<tr><th scope=row>2</th><td>50003</td><td>PITT </td><td>OK   </td><td>OK   </td><td>OK   </td><td>OK   </td><td>OK   </td><td>OK   </td></tr>\n",
       "\t<tr><th scope=row>3</th><td>50004</td><td>PITT </td><td>OK   </td><td>OK   </td><td>OK   </td><td>OK   </td><td>OK   </td><td>OK   </td></tr>\n",
       "\t<tr><th scope=row>4</th><td>50005</td><td>PITT </td><td>OK   </td><td>OK   </td><td>fail </td><td>OK   </td><td>OK   </td><td>fail </td></tr>\n",
       "\t<tr><th scope=row>5</th><td>50006</td><td>PITT </td><td>OK   </td><td>OK   </td><td>fail </td><td>OK   </td><td>OK   </td><td>OK   </td></tr>\n",
       "\t<tr><th scope=row>6</th><td>50007</td><td>PITT </td><td>OK   </td><td>OK   </td><td>fail </td><td>OK   </td><td>OK   </td><td>OK   </td></tr>\n",
       "</tbody>\n",
       "</table>\n"
      ],
      "text/latex": [
       "\\begin{tabular}{r|llllllll}\n",
       "  & Participant & SITE\\_ID & qc\\_rater\\_1 & qc\\_anat\\_rater\\_2 & qc\\_func\\_rater\\_2 & qc\\_anat\\_rater\\_3 & qc\\_func\\_rater\\_3 & qc\\_rater\\_4\\\\\n",
       "\\hline\n",
       "\t1 & 50002 & PITT  & fail  & OK    & fail  & OK    & fail  & OK   \\\\\n",
       "\t2 & 50003 & PITT  & OK    & OK    & OK    & OK    & OK    & OK   \\\\\n",
       "\t3 & 50004 & PITT  & OK    & OK    & OK    & OK    & OK    & OK   \\\\\n",
       "\t4 & 50005 & PITT  & OK    & OK    & fail  & OK    & OK    & fail \\\\\n",
       "\t5 & 50006 & PITT  & OK    & OK    & fail  & OK    & OK    & OK   \\\\\n",
       "\t6 & 50007 & PITT  & OK    & OK    & fail  & OK    & OK    & OK   \\\\\n",
       "\\end{tabular}\n"
      ],
      "text/plain": [
       "  Participant SITE_ID qc_rater_1 qc_anat_rater_2 qc_func_rater_2\n",
       "1       50002    PITT       fail              OK            fail\n",
       "2       50003    PITT         OK              OK              OK\n",
       "3       50004    PITT         OK              OK              OK\n",
       "4       50005    PITT         OK              OK            fail\n",
       "5       50006    PITT         OK              OK            fail\n",
       "6       50007    PITT         OK              OK            fail\n",
       "  qc_anat_rater_3 qc_func_rater_3 qc_rater_4\n",
       "1              OK            fail         OK\n",
       "2              OK              OK         OK\n",
       "3              OK              OK         OK\n",
       "4              OK              OK       fail\n",
       "5              OK              OK         OK\n",
       "6              OK              OK         OK"
      ]
     },
     "metadata": {},
     "output_type": "display_data"
    }
   ],
   "source": [
    "#conform the names of the raters and their ratings\n",
    "rater_cols <- setdiff(grep(\"*rater_\", names(pheno_df)),grep(\"*notes_rater\", names(pheno_df)))\n",
    "\n",
    "# reduce to the columns of interest\n",
    "pheno_df=pheno_df[c(\"SUB_ID\",\"SITE_ID\",names(pheno_df)[rater_cols],\"SUB_IN_SMP\")]\n",
    "\n",
    "# rename SUB_IN_SMP to rater #4\n",
    "names(pheno_df)[1]=\"Participant\"\n",
    "names(pheno_df)[8]=\"qc_rater_4\"\n",
    "\n",
    "# lets be really conservative and make all \"maybe\" fail\n",
    "pheno_df[pheno_df==\"maybe\"]<-\"fail\"\n",
    "\n",
    "# rater 4 used 0s and 1s instead of OK and fail, rename them\n",
    "pheno_df$qc_rater_4=factor(pheno_df$qc_rater_4,levels=c(0,1),labels=c(\"fail\",\"OK\"))\n",
    "\n",
    "# lets code all missing values as NA, so that they can be easily ignored in future processing\n",
    "pheno_df[pheno_df==\"\"]<-NA\n",
    "\n",
    "head(pheno_df)"
   ]
  },
  {
   "cell_type": "markdown",
   "metadata": {},
   "source": [
    "### Calculate consensus ratings for the anatomical data"
   ]
  },
  {
   "cell_type": "code",
   "execution_count": 16,
   "metadata": {
    "collapsed": false
   },
   "outputs": [],
   "source": [
    "pheno_df$qc_anat<-apply(pheno_df[,c(3,4,6,8)],1, function(x) sum(x==\"OK\", na.rm=T))\n",
    "pheno_df$qc_anat<-(pheno_df$qc_anat > 2) + 1\n",
    "pheno_df$qc_anat<-factor(pheno_df$qc_anat, levels=c(1,2), labels=c(\"Fail\", \"OK\"))"
   ]
  },
  {
   "cell_type": "markdown",
   "metadata": {},
   "source": [
    "### Calculate consensus ratings for the functional data"
   ]
  },
  {
   "cell_type": "code",
   "execution_count": 17,
   "metadata": {
    "collapsed": false
   },
   "outputs": [],
   "source": [
    "pheno_df$qc_func<-apply(pheno_df[,c(3,5,7,8)],1, function(x) sum(x==\"OK\", na.rm=T))\n",
    "pheno_df$qc_func<-(pheno_df$qc_func > 2) + 1\n",
    "pheno_df$qc_func<-factor(pheno_df$qc_func, levels=c(1,2), labels=c(\"Fail\", \"OK\"))"
   ]
  },
  {
   "cell_type": "markdown",
   "metadata": {},
   "source": [
    "## Now lets process the ABIDE Anatomical QAP measures"
   ]
  },
  {
   "cell_type": "markdown",
   "metadata": {},
   "source": [
    "### Read in the QAP measures, reduce to only the columns of interest, and format for later processing"
   ]
  },
  {
   "cell_type": "code",
   "execution_count": 67,
   "metadata": {
    "collapsed": false
   },
   "outputs": [
    {
     "data": {
      "text/html": [
       "<table>\n",
       "<thead><tr><th></th><th scope=col>Participant</th><th scope=col>Site</th><th scope=col>Session</th><th scope=col>Series</th><th scope=col>qc_anat</th><th scope=col>Measure</th><th scope=col>value</th></tr></thead>\n",
       "<tbody>\n",
       "\t<tr><th scope=row>1</th><td>50002        </td><td>Pitt         </td><td>session_1    </td><td>anat_1       </td><td>OK           </td><td>CNR          </td><td>11.7376361241</td></tr>\n",
       "\t<tr><th scope=row>2</th><td>50003       </td><td>Pitt        </td><td>session_1   </td><td>anat_1      </td><td>OK          </td><td>CNR         </td><td>9.3071467169</td></tr>\n",
       "\t<tr><th scope=row>3</th><td>50004        </td><td>Pitt         </td><td>session_1    </td><td>anat_1       </td><td>OK           </td><td>CNR          </td><td>12.1887839262</td></tr>\n",
       "\t<tr><th scope=row>4</th><td>50005        </td><td>Pitt         </td><td>session_1    </td><td>anat_1       </td><td>OK           </td><td>CNR          </td><td>12.4612905509</td></tr>\n",
       "\t<tr><th scope=row>5</th><td>50006        </td><td>Pitt         </td><td>session_1    </td><td>anat_1       </td><td>OK           </td><td>CNR          </td><td>13.1485533783</td></tr>\n",
       "\t<tr><th scope=row>6</th><td>50007       </td><td>Pitt        </td><td>session_1   </td><td>anat_1      </td><td>OK          </td><td>CNR         </td><td>9.4432486559</td></tr>\n",
       "</tbody>\n",
       "</table>\n"
      ],
      "text/latex": [
       "\\begin{tabular}{r|lllllll}\n",
       "  & Participant & Site & Session & Series & qc\\_anat & Measure & value\\\\\n",
       "\\hline\n",
       "\t1 & 50002         & Pitt          & session\\_1   & anat\\_1      & OK            & CNR           & 11.7376361241\\\\\n",
       "\t2 & 50003        & Pitt         & session\\_1  & anat\\_1     & OK           & CNR          & 9.3071467169\\\\\n",
       "\t3 & 50004         & Pitt          & session\\_1   & anat\\_1      & OK            & CNR           & 12.1887839262\\\\\n",
       "\t4 & 50005         & Pitt          & session\\_1   & anat\\_1      & OK            & CNR           & 12.4612905509\\\\\n",
       "\t5 & 50006         & Pitt          & session\\_1   & anat\\_1      & OK            & CNR           & 13.1485533783\\\\\n",
       "\t6 & 50007        & Pitt         & session\\_1  & anat\\_1     & OK           & CNR          & 9.4432486559\\\\\n",
       "\\end{tabular}\n"
      ],
      "text/plain": [
       "  Participant Site   Session Series qc_anat Measure     value\n",
       "1       50002 Pitt session_1 anat_1      OK     CNR 11.737636\n",
       "2       50003 Pitt session_1 anat_1      OK     CNR  9.307147\n",
       "3       50004 Pitt session_1 anat_1      OK     CNR 12.188784\n",
       "4       50005 Pitt session_1 anat_1      OK     CNR 12.461291\n",
       "5       50006 Pitt session_1 anat_1      OK     CNR 13.148553\n",
       "6       50007 Pitt session_1 anat_1      OK     CNR  9.443249"
      ]
     },
     "metadata": {},
     "output_type": "display_data"
    }
   ],
   "source": [
    "abide_anat_spat_df<-read.csv(\"2016_05_ABIDE_qap_anatomical_spatial.csv\")\n",
    "\n",
    "abide_anat_spat_df=merge(abide_anat_spat_df, pheno_df[c('Participant','qc_anat')], by='Participant')\n",
    "\n",
    "id.vars=c('Participant','Site','Session','Series','qc_anat')\n",
    "measure.vars=c('CNR','Cortical.Contrast','EFC','FBER','FWHM','Qi1','SNR')\n",
    "abide_anat_spat_df=abide_anat_spat_df[c(id.vars,measure.vars)]\n",
    "\n",
    "\n",
    "abide_anat_spat_df=melt(abide_anat_spat_df,\n",
    "                        id.vars=id.vars,\n",
    "                        measure.vars=measure.vars,\n",
    "                        variable.name=\"Measure\")\n",
    "\n",
    "head(abide_anat_spat_df)"
   ]
  },
  {
   "cell_type": "markdown",
   "metadata": {},
   "source": [
    "### Prepare for plotting by removing outliers"
   ]
  },
  {
   "cell_type": "code",
   "execution_count": 68,
   "metadata": {
    "collapsed": false
   },
   "outputs": [
    {
     "ename": "ERROR",
     "evalue": "Error in eval(expr, envir, enclos): could not find function \"ddply\"\n",
     "output_type": "error",
     "traceback": [
      "Error in eval(expr, envir, enclos): could not find function \"ddply\"\nTraceback:\n"
     ]
    }
   ],
   "source": [
    "df <- subset(abide_anat_spat_df)\n",
    "df <- ddply(df, .(Measure), function(x) {\n",
    "  x <- x[!is.na(x$value),]\n",
    "  inds <- get_outlier_inds(x$value)\n",
    "  x[!inds,]\n",
    "})"
   ]
  },
  {
   "cell_type": "code",
   "execution_count": 20,
   "metadata": {
    "collapsed": false
   },
   "outputs": [
    {
     "name": "stderr",
     "output_type": "stream",
     "text": [
      "\n",
      "Attaching package: ‘gridExtra’\n",
      "\n",
      "The following object is masked from ‘package:dplyr’:\n",
      "\n",
      "    combine\n",
      "\n"
     ]
    }
   ],
   "source": [
    "library(grid)\n",
    "library(gridExtra)\n"
   ]
  },
  {
   "cell_type": "code",
   "execution_count": 118,
   "metadata": {
    "collapsed": false
   },
   "outputs": [],
   "source": [
    "library(repr)\n",
    "options(repr.plot.width=7, repr.plot.height=3)"
   ]
  },
  {
   "cell_type": "code",
   "execution_count": 119,
   "metadata": {
    "collapsed": false
   },
   "outputs": [
    {
     "name": "stdout",
     "output_type": "stream",
     "text": [
      "       2%       98% \n",
      " 5.255683 18.078164 \n",
      "[1] \"CNR, 1, 1, 1\"\n",
      "       2%       98% \n",
      "0.2398590 0.4317548 \n",
      "[1] \"Cortical.Contrast, 2, 1, 2\"\n",
      "       2%       98% \n",
      "0.3484598 0.5345501 \n",
      "[1] \"EFC, 3, 1, 3\"\n",
      "       2%       98% \n",
      " 119.1084 1315.2591 \n",
      "[1] \"FBER, 4, 1, 4\"\n",
      "      2%      98% \n",
      "2.594859 5.196846 \n",
      "[1] \"FWHM, 5, 1, 5\"\n",
      "          2%          98% \n",
      "6.894695e-05 3.546160e-01 \n",
      "[1] \"Qi1, 6, 1, 6\"\n",
      "      2%      98% \n",
      "12.19066 36.22605 \n",
      "[1] \"SNR, 7, 1, 7\"\n"
     ]
    },
    {
     "data": {
      "image/png": "[encoded data removed]",
      "text/plain": [
       "plot without title"
      ]
     },
     "metadata": {},
     "output_type": "display_data"
    }
   ],
   "source": [
    "grid.newpage()\n",
    "ncol=7\n",
    "nrow=1\n",
    "pushViewport(viewport(layout = grid.layout(nrow, ncol)))\n",
    "vplayout <- function(x, y) viewport(layout.pos.row = x, layout.pos.col = y)\n",
    "#print(a, vp = vplayout(1, 1:2))  # key is to define vplayout\n",
    "#print(b, vp = vplayout(2, 1))\n",
    "#print(c, vp = vplayout(2, 2))\n",
    "\n",
    "for (i in seq(1,length(measure.vars))){\n",
    "  x=ceiling(i/ncol)\n",
    "  y=((i-1) %% ncol)+1\n",
    "  m=measure.vars[i]\n",
    "  sdf<-subset(df,Measure==m)\n",
    "  rating.means <- with(sdf, tapply(value, qc_anat, mean))\n",
    "  rating.sds   <- with(sdf, tapply(value, qc_anat, sd))\n",
    "  rating.ranges<- with(sdf, quantile(value, probs = c(0.02,.98)))  #sort(rating.means) + (rating.sds[order(rating.means)] * c(-1,1))\n",
    "    print(rating.ranges)\n",
    "  p <- ggplot(sdf, aes(x=as.factor(qc_anat), y=value, fill=as.factor(qc_anat))) + \n",
    "    #geom_violin(trim = TRUE) + \n",
    "    geom_boxplot(outlier.shape = NA,width=1) + \n",
    "    theme_bw() +\n",
    "    theme(legend.position = \"none\",\n",
    "          axis.text.x = element_text(family = \"Times\", face = \"plain\",size=8, angle=45, hjust=0.75),\n",
    "          axis.text.y = element_text(family = \"Times\", face = \"plain\",size=8, angle=0, hjust=0.75),\n",
    "          axis.title.y = element_text(family = \"Times\", face = \"plain\", size=10, angle=90, vjust=0.9),\n",
    "          plot.margin = unit(c(.25, .25, 0.25, .25), \"lines\")) +\n",
    "    xlab(\"\")+\n",
    "    ylab(m)+\n",
    "\n",
    "    #geom_bar(stat=\"identity\") + \n",
    "    #stat_summary(fun.y=\"mean\", geom=\"bar\") + \n",
    "#    facet_grid(measure ~ ., scale=\"free_y\") +\n",
    "    coord_cartesian(ylim=rating.ranges)\n",
    "    #ylab(as.character(sdf$measure[1])) +\n",
    "    #xlab(\"\") + \n",
    "    #theme_bw() #+ \n",
    "    #theme(panel.border=element_blank()) +\n",
    "    #theme(axis.line=element_line(), axis.line.y=element_blank()) +\n",
    "    #theme(panel.grid.major.x= element_blank()) + \n",
    "    #theme(panel.grid.minor.x= element_blank()) + \n",
    "    #theme(panel.grid.major.y= element_line(color=\"grey50\")) + \n",
    "    #theme(panel.grid.minor.y= element_blank()) + \n",
    "    #theme(axis.title.x      = element_blank()) +  \n",
    "    #theme(axis.title.y      = element_text(family = \"Century Gothic\", face = \"plain\", \n",
    "    #                                       size=18, angle=90, vjust=0.9)) +  \n",
    "    #theme(axis.text.x       = element_blank()) +\n",
    "    #theme(axis.text.y       = element_text(family = \"Times\", face = \"plain\", \n",
    "    #                                       size=16, angle=0, hjust=0.75)) + \n",
    "    #theme(axis.ticks.y = element_line(color=\"grey50\")) + \n",
    "    #theme(axis.ticks.length = unit(.15, \"lines\")) + \n",
    "    #theme(axis.ticks.margin = unit(.3, \"lines\")) + \n",
    "    #theme(axis.ticks.x      = element_blank()) +\n",
    "    #theme(plot.margin       = unit(c(1, 1, 0.25, 1), \"lines\")) +\n",
    "    #theme(legend.position   = \"none\")\n",
    "   print(sprintf(\"%s, %d, %d, %d\",m,i,x,y))\n",
    "   print(p, vp = vplayout(x, y))\n",
    "}"
   ]
  },
  {
   "cell_type": "code",
   "execution_count": null,
   "metadata": {
    "collapsed": false
   },
   "outputs": [],
   "source": [
    "grid.arrange(pp, ncol = 2, main = \"Main title\")"
   ]
  },
  {
   "cell_type": "code",
   "execution_count": null,
   "metadata": {
    "collapsed": false
   },
   "outputs": [],
   "source": [
    "plot(p[[1[]])"
   ]
  },
  {
   "cell_type": "code",
   "execution_count": null,
   "metadata": {
    "collapsed": false
   },
   "outputs": [],
   "source": [
    "rm(list=\"p\")"
   ]
  },
  {
   "cell_type": "code",
   "execution_count": 32,
   "metadata": {
    "collapsed": false
   },
   "outputs": [
    {
     "data": {
      "text/html": [
       "2"
      ],
      "text/latex": [
       "2"
      ],
      "text/markdown": [
       "2"
      ],
      "text/plain": [
       "[1] 2"
      ]
     },
     "metadata": {},
     "output_type": "display_data"
    }
   ],
   "source": [
    "ceiling(3/2)\n"
   ]
  },
  {
   "cell_type": "code",
   "execution_count": 89,
   "metadata": {
    "collapsed": false
   },
   "outputs": [
    {
     "data": {
      "text/plain": [
       "No vignettes or demos or help files found with alias or concept or\n",
       "title matching ‘precentiles’ using fuzzy matching."
      ]
     },
     "metadata": {},
     "output_type": "display_data"
    }
   ],
   "source": [
    "??precentiles"
   ]
  },
  {
   "cell_type": "code",
   "execution_count": null,
   "metadata": {
    "collapsed": true
   },
   "outputs": [],
   "source": []
  }
 ],
 "metadata": {
  "anaconda-cloud": {},
  "kernelspec": {
   "display_name": "R",
   "language": "R",
   "name": "ir"
  },
  "language_info": {
   "codemirror_mode": "r",
   "file_extension": ".r",
   "mimetype": "text/x-r-source",
   "name": "R",
   "pygments_lexer": "r",
   "version": "3.3.1"
  }
 },
 "nbformat": 4,
 "nbformat_minor": 1
}
