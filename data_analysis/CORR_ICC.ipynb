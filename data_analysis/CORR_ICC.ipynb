{
 "cells": [
  {
   "cell_type": "markdown",
   "metadata": {},
   "source": [
    "# Calculate ICC of QAP measures from CORR data\n",
    "Code to calculate the modern ICC version (using linear mixed-effects model).\n",
    "A lot is borrowed from AFNI's 3dICC_REML.R. Big shout out to the AFNI folks."
   ]
  },
  {
   "cell_type": "code",
   "execution_count": 40,
   "metadata": {
    "collapsed": false
   },
   "outputs": [],
   "source": [
    "library(lme4)\n",
    "library(dplyr)\n",
    "library(reshape2)\n",
    "library(tidyr)\n",
    "library(ggplot2)\n",
    "library(grid)\n",
    "library(gridExtra)"
   ]
  },
  {
   "cell_type": "markdown",
   "metadata": {},
   "source": [
    "## Read and tidy the CORR anatomical QAP measures"
   ]
  },
  {
   "cell_type": "code",
   "execution_count": 17,
   "metadata": {
    "collapsed": false
   },
   "outputs": [],
   "source": [
    "# read the data\n",
    "corr_anat_qa<-read.csv(\"2016_05_CORR_qap_anatomical_spatial.csv\")\n",
    "\n",
    "# reduce to the columns that we are interested in\n",
    "id.vars=c('Participant','Site','Session','Series')\n",
    "measure.vars=c('CNR','Cortical.Contrast','EFC','FBER','FWHM','Qi1','SNR')\n",
    "\n",
    "corr_anat_qa<-corr_anat_qa[c(id.vars,measure.vars)]"
   ]
  },
  {
   "cell_type": "code",
   "execution_count": 18,
   "metadata": {
    "collapsed": true
   },
   "outputs": [],
   "source": [
    "# Filter 1\n",
    "# Use only the first scan from sessions 1 & 2\n",
    "corr_anat_qa <-  corr_anat_qa %>% \n",
    "                  filter(Series == 'anat_1') %>% \n",
    "                   filter(Session %in% c('session_1','session_2'))\n",
    "corr_anat_qa$Series <- droplevels(corr_anat_qa$Series)\n",
    "corr_anat_qa$Session <- droplevels(corr_anat_qa$Session)"
   ]
  },
  {
   "cell_type": "code",
   "execution_count": 20,
   "metadata": {
    "collapsed": false
   },
   "outputs": [],
   "source": [
    "# Filter 2 \n",
    "# remove participants that do not have two sessions of data\n",
    "pts_keep <- (corr_anat_qa %>% \n",
    "             group_by(Participant) %>% \n",
    "              summarise(N=n()) %>%\n",
    "               filter(N>1))$Participant\n",
    "corr_anat_qa <-  corr_anat_qa %>% \n",
    "                  filter(Participant %in% pts_keep)\n",
    "# corr_anat_qa$Participant <- droplevels(corr_anat_qa$Participant)"
   ]
  },
  {
   "cell_type": "code",
   "execution_count": 21,
   "metadata": {
    "collapsed": false
   },
   "outputs": [],
   "source": [
    "# Filter 3 \n",
    "# remove Sites that have fewer that 10 pts\n",
    "sites_keep <- (corr_anat_qa %>% \n",
    "                 group_by(Site) %>% \n",
    "                   summarise(N=n()) %>%\n",
    "                     filter(N>10))$Site\n",
    "corr_anat_qa <-  corr_anat_qa %>% \n",
    "                  filter(Site %in% sites_keep)\n",
    "corr_anat_qa$Site <- droplevels(corr_anat_qa$Site)"
   ]
  },
  {
   "cell_type": "code",
   "execution_count": 22,
   "metadata": {
    "collapsed": false
   },
   "outputs": [
    {
     "data": {
      "text/plain": [
       "         \n",
       "          session_1 session_2\n",
       "  BNU_1          50        50\n",
       "  BNU_2          61        61\n",
       "  HNU_1          30        30\n",
       "  IACAS          27        27\n",
       "  IBA_TRT        14        14\n",
       "  IPCAS_1        30        30\n",
       "  IPCAS_2        35        35\n",
       "  IPCAS_8        13        13\n",
       "  LMU_3          25        25\n",
       "  MRN            48        48\n",
       "  NYU_1          25        25\n",
       "  NYU_2          62        62\n",
       "  SWU_1          19        19\n",
       "  SWU_3          24        24\n",
       "  SWU_4         234       234\n",
       "  UM             80        80\n",
       "  UPSM_1         99        99\n",
       "  Utah_1         19        19\n",
       "  UWM            25        25\n",
       "  XHCUMS         24        24"
      ]
     },
     "metadata": {},
     "output_type": "display_data"
    }
   ],
   "source": [
    "table(corr_anat_qa$Site, corr_anat_qa$Session)"
   ]
  },
  {
   "cell_type": "code",
   "execution_count": 23,
   "metadata": {
    "collapsed": false
   },
   "outputs": [
    {
     "data": {
      "text/html": [
       "<table>\n",
       "<thead><tr><th scope=col>Participant</th><th scope=col>Site</th><th scope=col>Series</th><th scope=col>Measure</th><th scope=col>session_1</th><th scope=col>session_2</th></tr></thead>\n",
       "<tbody>\n",
       "\t<tr><td>25000            </td><td>NYU_2            </td><td>anat_1           </td><td>CNR              </td><td> 11.98814305     </td><td> 12.56221793     </td></tr>\n",
       "\t<tr><td>25000            </td><td>NYU_2            </td><td>anat_1           </td><td>Cortical.Contrast</td><td>  0.37586680     </td><td>  0.42267393     </td></tr>\n",
       "\t<tr><td>25000            </td><td>NYU_2            </td><td>anat_1           </td><td>EFC              </td><td>  0.39672353     </td><td>  0.39002321     </td></tr>\n",
       "\t<tr><td>25000            </td><td>NYU_2            </td><td>anat_1           </td><td>FBER             </td><td>398.24758483     </td><td>344.16062441     </td></tr>\n",
       "\t<tr><td>25000            </td><td>NYU_2            </td><td>anat_1           </td><td>FWHM             </td><td>  3.28540315     </td><td>  3.31394664     </td></tr>\n",
       "\t<tr><td>25000            </td><td>NYU_2            </td><td>anat_1           </td><td>Qi1              </td><td>  0.05368263     </td><td>  0.05388648     </td></tr>\n",
       "</tbody>\n",
       "</table>\n"
      ],
      "text/latex": [
       "\\begin{tabular}{r|llllll}\n",
       " Participant & Site & Series & Measure & session\\_1 & session\\_2\\\\\n",
       "\\hline\n",
       "\t 25000             & NYU\\_2           & anat\\_1          & CNR               &  11.98814305      &  12.56221793     \\\\\n",
       "\t 25000             & NYU\\_2           & anat\\_1          & Cortical.Contrast &   0.37586680      &   0.42267393     \\\\\n",
       "\t 25000             & NYU\\_2           & anat\\_1          & EFC               &   0.39672353      &   0.39002321     \\\\\n",
       "\t 25000             & NYU\\_2           & anat\\_1          & FBER              & 398.24758483      & 344.16062441     \\\\\n",
       "\t 25000             & NYU\\_2           & anat\\_1          & FWHM              &   3.28540315      &   3.31394664     \\\\\n",
       "\t 25000             & NYU\\_2           & anat\\_1          & Qi1               &   0.05368263      &   0.05388648     \\\\\n",
       "\\end{tabular}\n"
      ],
      "text/markdown": [
       "\n",
       "Participant | Site | Series | Measure | session_1 | session_2 | \n",
       "|---|---|---|---|---|---|\n",
       "| 25000             | NYU_2             | anat_1            | CNR               |  11.98814305      |  12.56221793      | \n",
       "| 25000             | NYU_2             | anat_1            | Cortical.Contrast |   0.37586680      |   0.42267393      | \n",
       "| 25000             | NYU_2             | anat_1            | EFC               |   0.39672353      |   0.39002321      | \n",
       "| 25000             | NYU_2             | anat_1            | FBER              | 398.24758483      | 344.16062441      | \n",
       "| 25000             | NYU_2             | anat_1            | FWHM              |   3.28540315      |   3.31394664      | \n",
       "| 25000             | NYU_2             | anat_1            | Qi1               |   0.05368263      |   0.05388648      | \n",
       "\n",
       "\n"
      ],
      "text/plain": [
       "  Participant Site  Series Measure           session_1    session_2   \n",
       "1 25000       NYU_2 anat_1 CNR                11.98814305  12.56221793\n",
       "2 25000       NYU_2 anat_1 Cortical.Contrast   0.37586680   0.42267393\n",
       "3 25000       NYU_2 anat_1 EFC                 0.39672353   0.39002321\n",
       "4 25000       NYU_2 anat_1 FBER              398.24758483 344.16062441\n",
       "5 25000       NYU_2 anat_1 FWHM                3.28540315   3.31394664\n",
       "6 25000       NYU_2 anat_1 Qi1                 0.05368263   0.05388648"
      ]
     },
     "metadata": {},
     "output_type": "display_data"
    }
   ],
   "source": [
    "## make table of session1 vs. session2 scatter plots\n",
    "df<-melt(corr_anat_qa,\n",
    "         id.vars=id.vars,\n",
    "         measure.vars=measure.vars,\n",
    "         variable.name=\"Measure\")\n",
    "\n",
    "df <- df %>% spread(Session, value)\n",
    "head(df)"
   ]
  },
  {
   "cell_type": "code",
   "execution_count": 32,
   "metadata": {
    "collapsed": false
   },
   "outputs": [],
   "source": [
    "# QC hand ratings\n",
    "scatter_plots<-function(df,x_var,y_var,axis_strings,title_strings,pdf_fname,fig_size_w,fig_size_h,ncol,nrow){\n",
    "    options(repr.plot.width=fig_size_w, repr.plot.height=fig_size_h)\n",
    "    \n",
    "#     pdf(pdf_fname, width = fig_size_w, height = fig_size_h, family=\"ArialMT\")\n",
    "    \n",
    "    grid.newpage()\n",
    "\n",
    "    pushViewport(viewport(layout = grid.layout(nrow, ncol)))\n",
    "    \n",
    "    vplayout <- function(x, y) viewport(layout.pos.row = x, layout.pos.col = y)\n",
    "\n",
    "    pval_thresh=c(0.05,0.01,0.001,0.0001)\n",
    "    pval_indicators=c(\"*\",\"**\",\"***\",\"****\")\n",
    "        \n",
    "    measure.vars = unique(df$Measure)\n",
    "\n",
    "    for (i in seq(1,length(measure.vars)))\n",
    "    {\n",
    "        # get only the rows corresponding to this measure\n",
    "        sdf<- df %>% filter(Measure == measure.vars[i])\n",
    "        scale_min<-min(sdf[x_var],sdf[y_var])\n",
    "        scale_max<-max(sdf[x_var],sdf[y_var])\n",
    "        \n",
    "#         formula=sprintf(\"value ~ as.factor(%s)\",qc_var)\n",
    "#         # get the lable and annotate to indicate statistical significance of the difference\n",
    "#         pval<-wilcox.test(as.formula(formula),data=sdf)$p.value\n",
    "\n",
    "#         pval_string=\"ns\"\n",
    "#         for (t in seq(1,length(pval_thresh)))\n",
    "#         {\n",
    "#             if(pval < pval_thresh[t])\n",
    "#             {\n",
    "#                 pval_string=pval_indicators[t]\n",
    "#             }\n",
    "#         }\n",
    "\n",
    "#         print(paste(measure.vars[i],label_strings[[measure.vars[i]]],pval_string,sprintf('pval %e',pval)))\n",
    "        \n",
    "        p<-ggplot(sdf, aes_string(x=x_var, y=y_var, fill=measure.vars[i])) + \n",
    "            geom_point(size=.5) + \n",
    "            theme_bw() +\n",
    "            ggtitle(label_strings[[measure.vars[i]]])+\n",
    "            xlab(axis_strings[[x_var]])+\n",
    "            ylab(axis_strings[[y_var]])+\n",
    "            theme(legend.position = \"none\",\n",
    "                  plot.title = element_text(family = \"ArialMT\",\n",
    "                                             face = \"plain\",\n",
    "                                             size = 10,\n",
    "                                             vjust = 0,\n",
    "                                             hjust = 0.5),\n",
    "                  axis.text.x = element_text(family = \"ArialMT\",\n",
    "                                             face = \"plain\",\n",
    "                                             size = 8, \n",
    "                                             angle = 0, \n",
    "                                             hjust = 0.5),\n",
    "                  axis.text.y = element_text(family = \"ArialMT\", \n",
    "                                             face = \"plain\", \n",
    "                                             size = 8, \n",
    "                                             angle = 90, \n",
    "                                             hjust = 0.5),\n",
    "                  axis.title.y = element_text(family = \"ArialMT\", \n",
    "                                              face = \"plain\", \n",
    "                                              size = 10, \n",
    "                                              angle = 90, \n",
    "                                              vjust = 0.9),\n",
    "                  axis.title.x = element_text(family = \"ArialMT\", \n",
    "                                              face = \"plain\", \n",
    "                                              size = 10, \n",
    "                                              angle = 0, \n",
    "                                              vjust = 0.9),\n",
    "                  plot.margin = unit(c(.25, .25, 0.25, .25), \n",
    "                                     \"lines\")) +\n",
    "            coord_fixed(ylim=c(scale_min,scale_max), xlim=c(scale_min,scale_max))\n",
    "#         +\n",
    "\n",
    "#             # reduce the range to between the 2% and 98% quartiles to make the plot\n",
    "#             # range more readible, do this without censoring so that the bars will go\n",
    "#             # out of frame     \n",
    "#             coord_cartesian(ylim=with(sdf, val_range))\n",
    "\n",
    "\n",
    "        # get the location of this plot in the grid\n",
    "        x=ceiling(i/ncol)\n",
    "        y=((i-1) %% ncol)+1\n",
    "\n",
    "        # add the plot to the grid\n",
    "        print(p, vp = vplayout(x, y))\n",
    "    }\n",
    "#     dev.off()\n",
    "}"
   ]
  },
  {
   "cell_type": "code",
   "execution_count": 25,
   "metadata": {
    "collapsed": true
   },
   "outputs": [],
   "source": [
    "# plots\n",
    "label_strings=c(CNR='CNR',\n",
    "                Cortical.Contrast='Cortical Contrast',\n",
    "                EFC='EFC',\n",
    "                FBER='FBER',\n",
    "                FWHM='Smoothness (FWHM)',\n",
    "                Qi1='Fraction of Artifact Voxels',\n",
    "                SNR='SNR')\n",
    "\n",
    "axis_strings=list(session_1 = \"Session 1\", session_2 = \"Session 2\")"
   ]
  },
  {
   "cell_type": "code",
   "execution_count": 26,
   "metadata": {
    "collapsed": false
   },
   "outputs": [
    {
     "data": {
      "image/png": "[encoded data removed]",
      "text/plain": [
       "plot without title"
      ]
     },
     "metadata": {},
     "output_type": "display_data"
    }
   ],
   "source": [
    "scatter_plots(df,'session_1','session_2',axis_strings, label_strings, 'none',90.0/25.4,2*90.0/25.4,2,4)"
   ]
  },
  {
   "cell_type": "code",
   "execution_count": 187,
   "metadata": {
    "collapsed": false
   },
   "outputs": [
    {
     "data": {
      "text/html": [
       "1815.0123550613"
      ],
      "text/latex": [
       "1815.0123550613"
      ],
      "text/markdown": [
       "1815.0123550613"
      ],
      "text/plain": [
       "[1] 1815.012"
      ]
     },
     "metadata": {},
     "output_type": "display_data"
    }
   ],
   "source": [
    "max(df$session_1,df$session_2)"
   ]
  },
  {
   "cell_type": "code",
   "execution_count": 27,
   "metadata": {
    "collapsed": false
   },
   "outputs": [
    {
     "data": {
      "text/plain": [
       "         \n",
       "          session_1 session_2\n",
       "  BNU_1         500       500\n",
       "  BNU_2         610       610\n",
       "  HNU_1         300       300\n",
       "  IACAS         270       270\n",
       "  IBA_TRT       140       140\n",
       "  IPCAS_1       300       300\n",
       "  IPCAS_2       350       350\n",
       "  IPCAS_8       130       130\n",
       "  LMU_3         250       250\n",
       "  MRN           390       420\n",
       "  NYU_1         250       250\n",
       "  NYU_2         620       620\n",
       "  SWU_1         190       190\n",
       "  SWU_3         240       240\n",
       "  SWU_4        2330      2330\n",
       "  UM            800       800\n",
       "  UPSM_1        990       990\n",
       "  Utah_1        190       190\n",
       "  UWM           250       250\n",
       "  XHCUMS        240       240"
      ]
     },
     "metadata": {},
     "output_type": "display_data"
    },
    {
     "data": {
      "text/html": [
       "<table>\n",
       "<thead><tr><th scope=col>Participant</th><th scope=col>Site</th><th scope=col>Session</th><th scope=col>Series</th><th scope=col>Measure</th><th scope=col>value</th></tr></thead>\n",
       "<tbody>\n",
       "\t<tr><td>25000    </td><td>NYU_2    </td><td>session_1</td><td>rest_1   </td><td>EFC      </td><td>0.4746275</td></tr>\n",
       "\t<tr><td>25000    </td><td>NYU_2    </td><td>session_2</td><td>rest_1   </td><td>EFC      </td><td>0.4655316</td></tr>\n",
       "\t<tr><td>25001    </td><td>NYU_2    </td><td>session_1</td><td>rest_1   </td><td>EFC      </td><td>0.4813221</td></tr>\n",
       "\t<tr><td>25001    </td><td>NYU_2    </td><td>session_2</td><td>rest_1   </td><td>EFC      </td><td>0.4840581</td></tr>\n",
       "\t<tr><td>25002    </td><td>NYU_2    </td><td>session_1</td><td>rest_1   </td><td>EFC      </td><td>0.4525287</td></tr>\n",
       "\t<tr><td>25002    </td><td>NYU_2    </td><td>session_2</td><td>rest_1   </td><td>EFC      </td><td>0.4654134</td></tr>\n",
       "</tbody>\n",
       "</table>\n"
      ],
      "text/latex": [
       "\\begin{tabular}{r|llllll}\n",
       " Participant & Site & Session & Series & Measure & value\\\\\n",
       "\\hline\n",
       "\t 25000       & NYU\\_2     & session\\_1 & rest\\_1    & EFC         & 0.4746275  \\\\\n",
       "\t 25000       & NYU\\_2     & session\\_2 & rest\\_1    & EFC         & 0.4655316  \\\\\n",
       "\t 25001       & NYU\\_2     & session\\_1 & rest\\_1    & EFC         & 0.4813221  \\\\\n",
       "\t 25001       & NYU\\_2     & session\\_2 & rest\\_1    & EFC         & 0.4840581  \\\\\n",
       "\t 25002       & NYU\\_2     & session\\_1 & rest\\_1    & EFC         & 0.4525287  \\\\\n",
       "\t 25002       & NYU\\_2     & session\\_2 & rest\\_1    & EFC         & 0.4654134  \\\\\n",
       "\\end{tabular}\n"
      ],
      "text/markdown": [
       "\n",
       "Participant | Site | Session | Series | Measure | value | \n",
       "|---|---|---|---|---|---|\n",
       "| 25000     | NYU_2     | session_1 | rest_1    | EFC       | 0.4746275 | \n",
       "| 25000     | NYU_2     | session_2 | rest_1    | EFC       | 0.4655316 | \n",
       "| 25001     | NYU_2     | session_1 | rest_1    | EFC       | 0.4813221 | \n",
       "| 25001     | NYU_2     | session_2 | rest_1    | EFC       | 0.4840581 | \n",
       "| 25002     | NYU_2     | session_1 | rest_1    | EFC       | 0.4525287 | \n",
       "| 25002     | NYU_2     | session_2 | rest_1    | EFC       | 0.4654134 | \n",
       "\n",
       "\n"
      ],
      "text/plain": [
       "  Participant Site  Session   Series Measure value    \n",
       "1 25000       NYU_2 session_1 rest_1 EFC     0.4746275\n",
       "2 25000       NYU_2 session_2 rest_1 EFC     0.4655316\n",
       "3 25001       NYU_2 session_1 rest_1 EFC     0.4813221\n",
       "4 25001       NYU_2 session_2 rest_1 EFC     0.4840581\n",
       "5 25002       NYU_2 session_1 rest_1 EFC     0.4525287\n",
       "6 25002       NYU_2 session_2 rest_1 EFC     0.4654134"
      ]
     },
     "metadata": {},
     "output_type": "display_data"
    }
   ],
   "source": [
    "# read the data\n",
    "corr_func_qa<-read.csv(\"2016_05_CoRR_qap_functional_spatial.csv\")\n",
    "\n",
    "# reduce to the columns that we are interested in\n",
    "id.vars=c('Participant','Site','Session','Series')\n",
    "measure.vars=c('EFC','FBER','FWHM','Ghost_y','SNR')\n",
    "corr_func_qa<-corr_func_qa[c(id.vars,measure.vars)]\n",
    "\n",
    "# read in the temporal measures\n",
    "tdf<-read.csv(\"2016_05_CORR_qap_functional_temporal.csv\")\n",
    "tmeasure.vars=c('Fraction.of.Outliers..Mean.','GCOR','Quality..Mean.',\n",
    "                'RMSD..Mean.','Std..DVARS..Mean.')\n",
    "tdf<-tdf[c(id.vars,tmeasure.vars)]\n",
    "\n",
    "# combine the datasets\n",
    "corr_func_qa<-merge(corr_func_qa,tdf,by=id.vars)\n",
    "measure.vars<-c(measure.vars,tmeasure.vars)\n",
    "\n",
    "# Filter 1\n",
    "# Use only the first scan from sessions 1 & 2\n",
    "corr_func_qa <-  corr_func_qa %>% \n",
    "                  filter(Series == 'rest_1') %>% \n",
    "                   filter(Session %in% c('session_1','session_2'))\n",
    "corr_func_qa$Series <- droplevels(corr_func_qa$Series)\n",
    "corr_func_qa$Session <- droplevels(corr_func_qa$Session)\n",
    "\n",
    "# Filter 2 \n",
    "# reduce to same participants in anatomical analysis\n",
    "corr_func_qa <-  corr_func_qa %>% \n",
    "                  filter(Participant %in% corr_anat_qa$Participant)\n",
    "corr_func_qa$Site <- droplevels(corr_func_qa$Site)\n",
    "\n",
    "# mult table to make a seperate row for each obs of each measure\n",
    "corr_func_qa <- corr_func_qa %>% \n",
    "                  melt(id.vars=id.vars,\n",
    "                       measure.vars=measure.vars,\n",
    "                       variable.name=\"Measure\")\n",
    "\n",
    "# make sure that participant is a factor\n",
    "corr_func_qa$Participant <- factor(corr_func_qa$Participant)\n",
    "\n",
    "table(corr_func_qa$Site, corr_func_qa$Session)\n",
    "head(corr_func_qa)"
   ]
  },
  {
   "cell_type": "code",
   "execution_count": 28,
   "metadata": {
    "collapsed": false
   },
   "outputs": [
    {
     "data": {
      "text/html": [
       "<table>\n",
       "<thead><tr><th scope=col>Participant</th><th scope=col>Site</th><th scope=col>Series</th><th scope=col>Measure</th><th scope=col>session_1</th><th scope=col>session_2</th></tr></thead>\n",
       "<tbody>\n",
       "\t<tr><td>25000                      </td><td>NYU_2                      </td><td>rest_1                     </td><td>EFC                        </td><td> 0.474627533               </td><td> 0.465531623               </td></tr>\n",
       "\t<tr><td>25000                      </td><td>NYU_2                      </td><td>rest_1                     </td><td>FBER                       </td><td>20.567237141               </td><td>23.004120017               </td></tr>\n",
       "\t<tr><td>25000                      </td><td>NYU_2                      </td><td>rest_1                     </td><td>FWHM                       </td><td> 1.848541592               </td><td> 1.926711090               </td></tr>\n",
       "\t<tr><td>25000                      </td><td>NYU_2                      </td><td>rest_1                     </td><td>Ghost_y                    </td><td>-0.010328280               </td><td>-0.001600582               </td></tr>\n",
       "\t<tr><td>25000                      </td><td>NYU_2                      </td><td>rest_1                     </td><td>SNR                        </td><td>11.226366955               </td><td>11.810273067               </td></tr>\n",
       "\t<tr><td>25000                      </td><td>NYU_2                      </td><td>rest_1                     </td><td>Fraction.of.Outliers..Mean.</td><td> 0.002357111               </td><td> 0.002385056               </td></tr>\n",
       "</tbody>\n",
       "</table>\n"
      ],
      "text/latex": [
       "\\begin{tabular}{r|llllll}\n",
       " Participant & Site & Series & Measure & session\\_1 & session\\_2\\\\\n",
       "\\hline\n",
       "\t 25000                       & NYU\\_2                     & rest\\_1                    & EFC                         &  0.474627533                &  0.465531623               \\\\\n",
       "\t 25000                       & NYU\\_2                     & rest\\_1                    & FBER                        & 20.567237141                & 23.004120017               \\\\\n",
       "\t 25000                       & NYU\\_2                     & rest\\_1                    & FWHM                        &  1.848541592                &  1.926711090               \\\\\n",
       "\t 25000                         & NYU\\_2                       & rest\\_1                      & Ghost\\_y                     & -0.010328280                  & -0.001600582                 \\\\\n",
       "\t 25000                       & NYU\\_2                     & rest\\_1                    & SNR                         & 11.226366955                & 11.810273067               \\\\\n",
       "\t 25000                       & NYU\\_2                     & rest\\_1                    & Fraction.of.Outliers..Mean. &  0.002357111                &  0.002385056               \\\\\n",
       "\\end{tabular}\n"
      ],
      "text/markdown": [
       "\n",
       "Participant | Site | Series | Measure | session_1 | session_2 | \n",
       "|---|---|---|---|---|---|\n",
       "| 25000                       | NYU_2                       | rest_1                      | EFC                         |  0.474627533                |  0.465531623                | \n",
       "| 25000                       | NYU_2                       | rest_1                      | FBER                        | 20.567237141                | 23.004120017                | \n",
       "| 25000                       | NYU_2                       | rest_1                      | FWHM                        |  1.848541592                |  1.926711090                | \n",
       "| 25000                       | NYU_2                       | rest_1                      | Ghost_y                     | -0.010328280                | -0.001600582                | \n",
       "| 25000                       | NYU_2                       | rest_1                      | SNR                         | 11.226366955                | 11.810273067                | \n",
       "| 25000                       | NYU_2                       | rest_1                      | Fraction.of.Outliers..Mean. |  0.002357111                |  0.002385056                | \n",
       "\n",
       "\n"
      ],
      "text/plain": [
       "  Participant Site  Series Measure                     session_1   \n",
       "1 25000       NYU_2 rest_1 EFC                          0.474627533\n",
       "2 25000       NYU_2 rest_1 FBER                        20.567237141\n",
       "3 25000       NYU_2 rest_1 FWHM                         1.848541592\n",
       "4 25000       NYU_2 rest_1 Ghost_y                     -0.010328280\n",
       "5 25000       NYU_2 rest_1 SNR                         11.226366955\n",
       "6 25000       NYU_2 rest_1 Fraction.of.Outliers..Mean.  0.002357111\n",
       "  session_2   \n",
       "1  0.465531623\n",
       "2 23.004120017\n",
       "3  1.926711090\n",
       "4 -0.001600582\n",
       "5 11.810273067\n",
       "6  0.002385056"
      ]
     },
     "metadata": {},
     "output_type": "display_data"
    }
   ],
   "source": [
    "## make table of session1 vs. session2 scatter plots\n",
    "df <- corr_func_qa %>% spread(Session, value)\n",
    "head(df)"
   ]
  },
  {
   "cell_type": "code",
   "execution_count": 29,
   "metadata": {
    "collapsed": true
   },
   "outputs": [],
   "source": [
    "label_strings=list(EFC='EFC',\n",
    "                   FBER='FBER',\n",
    "                   FWHM='Smoothness (FWHM)',\n",
    "                   Ghost_y='GSR',\n",
    "                   SNR='SNR',\n",
    "                   Fraction.of.Outliers..Mean.='Mean Fraction of Outliers',\n",
    "                   GCOR='GCOR',\n",
    "                   Quality..Mean.='Mean AFNI Quality Index',\n",
    "                   RMSD..Mean.='Mean RMSD',\n",
    "                   Std..DVARS..Mean.='Mean Std. DVARS')\n",
    "axis_strings=list(session_1 = \"Session 1\", session_2 = \"Session 2\")"
   ]
  },
  {
   "cell_type": "code",
   "execution_count": 66,
   "metadata": {
    "collapsed": false
   },
   "outputs": [
    {
     "name": "stderr",
     "output_type": "stream",
     "text": [
      "Warning message:\n",
      "“Removed 13 rows containing missing values (geom_point).”"
     ]
    },
    {
     "data": {
      "image/png": "[encoded data removed]",
      "text/plain": [
       "plot without title"
      ]
     },
     "metadata": {},
     "output_type": "display_data"
    }
   ],
   "source": [
    "options(repr.plot.width=10, repr.plot.height=10)\n",
    "df<-filter(df,Measure==\"RMSD..Mean.\")\n",
    "df<-filter(df,Participant!=25296)\n",
    "p1=ggplot(df,aes(x=session_1,y=session_2))+geom_point()\n",
    "print(p1)"
   ]
  },
  {
   "cell_type": "code",
   "execution_count": 62,
   "metadata": {
    "collapsed": false
   },
   "outputs": [
    {
     "data": {
      "text/html": [
       "125"
      ],
      "text/latex": [
       "125"
      ],
      "text/markdown": [
       "125"
      ],
      "text/plain": [
       "[1] 125"
      ]
     },
     "metadata": {},
     "output_type": "display_data"
    }
   ],
   "source": [
    "which(df$session_1>3)"
   ]
  },
  {
   "cell_type": "code",
   "execution_count": 65,
   "metadata": {
    "collapsed": false
   },
   "outputs": [
    {
     "data": {
      "text/html": [
       "<table>\n",
       "<thead><tr><th></th><th scope=col>Participant</th><th scope=col>Site</th><th scope=col>Series</th><th scope=col>Measure</th><th scope=col>session_1</th><th scope=col>session_2</th></tr></thead>\n",
       "<tbody>\n",
       "\t<tr><th scope=row>125</th><td>25296      </td><td>UPSM_1     </td><td>rest_1     </td><td>RMSD..Mean.</td><td>3.289866   </td><td>0.09788609 </td></tr>\n",
       "</tbody>\n",
       "</table>\n"
      ],
      "text/latex": [
       "\\begin{tabular}{r|llllll}\n",
       "  & Participant & Site & Series & Measure & session\\_1 & session\\_2\\\\\n",
       "\\hline\n",
       "\t125 & 25296       & UPSM\\_1    & rest\\_1    & RMSD..Mean. & 3.289866    & 0.09788609 \\\\\n",
       "\\end{tabular}\n"
      ],
      "text/markdown": [
       "\n",
       "| <!--/--> | Participant | Site | Series | Measure | session_1 | session_2 | \n",
       "|---|\n",
       "| 125 | 25296       | UPSM_1      | rest_1      | RMSD..Mean. | 3.289866    | 0.09788609  | \n",
       "\n",
       "\n"
      ],
      "text/plain": [
       "    Participant Site   Series Measure     session_1 session_2 \n",
       "125 25296       UPSM_1 rest_1 RMSD..Mean. 3.289866  0.09788609"
      ]
     },
     "metadata": {},
     "output_type": "display_data"
    }
   ],
   "source": [
    "df[125,]"
   ]
  },
  {
   "cell_type": "code",
   "execution_count": null,
   "metadata": {
    "collapsed": true
   },
   "outputs": [],
   "source": []
  }
 ],
 "metadata": {
  "anaconda-cloud": {},
  "kernelspec": {
   "display_name": "R",
   "language": "R",
   "name": "ir"
  },
  "language_info": {
   "codemirror_mode": "r",
   "file_extension": ".r",
   "mimetype": "text/x-r-source",
   "name": "R",
   "pygments_lexer": "r",
   "version": "3.3.2"
  }
 },
 "nbformat": 4,
 "nbformat_minor": 1
}
