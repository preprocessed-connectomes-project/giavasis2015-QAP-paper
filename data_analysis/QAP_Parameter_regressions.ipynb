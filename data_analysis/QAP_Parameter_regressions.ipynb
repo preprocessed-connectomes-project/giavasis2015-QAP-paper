{
 "cells": [
  {
   "cell_type": "markdown",
   "metadata": {},
   "source": [
    "# Regress QAP measures against scanning parameters"
   ]
  },
  {
   "cell_type": "code",
   "execution_count": 1,
   "metadata": {
    "collapsed": false
   },
   "outputs": [
    {
     "name": "stderr",
     "output_type": "stream",
     "text": [
      "\n",
      "Attaching package: ‘dplyr’\n",
      "\n",
      "The following object is masked from ‘package:gridExtra’:\n",
      "\n",
      "    combine\n",
      "\n",
      "The following objects are masked from ‘package:stats’:\n",
      "\n",
      "    filter, lag\n",
      "\n",
      "The following objects are masked from ‘package:base’:\n",
      "\n",
      "    intersect, setdiff, setequal, union\n",
      "\n",
      "\n",
      "Attaching package: ‘tidyr’\n",
      "\n",
      "The following object is masked from ‘package:reshape2’:\n",
      "\n",
      "    smiths\n",
      "\n",
      "Loading required package: Matrix\n",
      "\n",
      "Attaching package: ‘Matrix’\n",
      "\n",
      "The following object is masked from ‘package:tidyr’:\n",
      "\n",
      "    expand\n",
      "\n"
     ]
    }
   ],
   "source": [
    "# Load some needed packages\n",
    "library(grid)\n",
    "library(gridExtra)\n",
    "library(ggplot2)\n",
    "library(dplyr)\n",
    "library(repr)\n",
    "library(reshape2)\n",
    "library(tidyr)\n",
    "library(lme4)"
   ]
  },
  {
   "cell_type": "markdown",
   "metadata": {},
   "source": [
    "## Read in and tidy the sMRI scanning parameters for ABIDE"
   ]
  },
  {
   "cell_type": "code",
   "execution_count": 2,
   "metadata": {
    "collapsed": false
   },
   "outputs": [],
   "source": [
    "abide_smri_scan_params<-read.csv(\"anat_abide_scan_params_bids.csv\")\n",
    "\n",
    "abide_smri_scan_params<-abide_smri_scan_params %>% \n",
    "                     mutate(Scanner = paste(Manufacturer,ManufacturersModelName))\n",
    "abide_smri_scan_params$Scanner<-factor(abide_smri_scan_params$Scanner)\n",
    "\n",
    "abide_smri_scan_params<-abide_smri_scan_params %>% \n",
    "                     rowwise() %>% \n",
    "                       mutate(VoxelVolume = as.numeric(SliceThickness)*\n",
    "                                            prod(as.numeric(unlist(strsplit(as.character(PixelSpacing), \"x\")))))\n",
    "\n",
    "abide_smri_scan_params<-abide_smri_scan_params %>% \n",
    "                     select(Site,Scanner,EchoTime,RepetitionTime,InversionTime,FlipAngle,VoxelVolume) %>% \n",
    "                       drop_na()\n",
    "\n",
    "abide_smri_scan_params$Scanner<-droplevels(abide_smri_scan_params$Scanner)"
   ]
  },
  {
   "cell_type": "markdown",
   "metadata": {},
   "source": [
    "## Read in and tidy the sMRI QAP measures for ABIDE"
   ]
  },
  {
   "cell_type": "code",
   "execution_count": 3,
   "metadata": {
    "collapsed": false
   },
   "outputs": [],
   "source": [
    "abide_anat_spat_df<-read.csv(\"2016_05_ABIDE_qap_anatomical_spatial.csv\")\n",
    "\n",
    "id.vars=c('Participant','Site','Session','Series')\n",
    "measure.vars=c('CNR','Cortical.Contrast','EFC','FBER','FWHM','Qi1','SNR')\n",
    "abide_anat_spat_df<-abide_anat_spat_df[c(id.vars,measure.vars)]\n",
    "\n",
    "# reduce to just session_1 and anat_1 and remove rows with missing values\n",
    "abide_anat_spat_df <- abide_anat_spat_df %>% \n",
    "                        filter(Session == \"session_1\" & Series == \"anat_1\") %>% \n",
    "                           drop_na()\n",
    "\n",
    "# make sure that participant is a factor\n",
    "abide_anat_spat_df$Participant <- factor(abide_anat_spat_df$Participant)\n",
    "\n",
    "# summary(abide_anat_spat_df)\n",
    "\n",
    "# plots\n",
    "qap_label_strings=c(CNR='CNR',\n",
    "                Cortical.Contrast='Cortical Contrast',\n",
    "                EFC='EFC',\n",
    "                FBER='FBER',\n",
    "                FWHM='Smoothness (FWHM)',\n",
    "                Qi1='Fraction of Artifact Voxels',\n",
    "                SNR='SNR')"
   ]
  },
  {
   "cell_type": "markdown",
   "metadata": {},
   "source": [
    "## Analyze!"
   ]
  },
  {
   "cell_type": "code",
   "execution_count": 5,
   "metadata": {
    "collapsed": false
   },
   "outputs": [],
   "source": [
    "abide_anat_df <- inner_join(abide_anat_spat_df, abide_smri_scan_params, by=\"Site\")\n",
    "\n",
    "# mean center all of the covariates\n",
    "abide_anat_df<-abide_anat_df %>% mutate_if(is.numeric, funs(scale(., scale=FALSE)))\n",
    "\n"
   ]
  },
  {
   "cell_type": "code",
   "execution_count": 15,
   "metadata": {
    "collapsed": false
   },
   "outputs": [
    {
     "data": {
      "text/plain": [
       "\n",
       "Call:\n",
       "lm(formula = FWHM ~ 1 + Scanner + EchoTime + InversionTime + \n",
       "    RepetitionTime + FlipAngle + VoxelVolume, data = abide_anat_df)\n",
       "\n",
       "Residuals:\n",
       "     Min       1Q   Median       3Q      Max \n",
       "-1.26108 -0.34565  0.00362  0.32172  2.10075 \n",
       "\n",
       "Coefficients:\n",
       "                        Estimate Std. Error t value Pr(>|t|)    \n",
       "(Intercept)              0.19592    0.11752   1.667 0.095852 .  \n",
       "ScannerPhilips Intera   -0.57989    0.10621  -5.460 6.22e-08 ***\n",
       "ScannerSiemens Allegra  -0.74460    0.13527  -5.505 4.87e-08 ***\n",
       "ScannerSiemens TrioTim   0.49992    0.17678   2.828 0.004792 ** \n",
       "ScannerSiemens Verio    -0.86688    0.15884  -5.457 6.30e-08 ***\n",
       "EchoTime               219.55242   57.77197   3.800 0.000155 ***\n",
       "InversionTime            0.67773    0.36854   1.839 0.066258 .  \n",
       "RepetitionTime          -0.92471    0.08747 -10.571  < 2e-16 ***\n",
       "FlipAngle               -0.53287    0.07341  -7.259 8.64e-13 ***\n",
       "VoxelVolume             -0.65736    0.19646  -3.346 0.000855 ***\n",
       "---\n",
       "Signif. codes:  0 ‘***’ 0.001 ‘**’ 0.01 ‘*’ 0.05 ‘.’ 0.1 ‘ ’ 1\n",
       "\n",
       "Residual standard error: 0.5796 on 871 degrees of freedom\n",
       "Multiple R-squared:  0.3294,\tAdjusted R-squared:  0.3225 \n",
       "F-statistic: 47.54 on 9 and 871 DF,  p-value: < 2.2e-16\n"
      ]
     },
     "metadata": {},
     "output_type": "display_data"
    }
   ],
   "source": [
    "abide_smri_qap_param_model<-lm(FWHM ~ 1 + Scanner + EchoTime + InversionTime + \n",
    "                               RepetitionTime + FlipAngle + VoxelVolume,\n",
    "                               abide_anat_df)\n",
    "summary(abide_smri_qap_param_model)"
   ]
  },
  {
   "cell_type": "code",
   "execution_count": null,
   "metadata": {
    "collapsed": true
   },
   "outputs": [],
   "source": []
  }
 ],
 "metadata": {
  "kernelspec": {
   "display_name": "R",
   "language": "R",
   "name": "ir"
  },
  "language_info": {
   "codemirror_mode": "r",
   "file_extension": ".r",
   "mimetype": "text/x-r-source",
   "name": "R",
   "pygments_lexer": "r",
   "version": "3.3.2"
  }
 },
 "nbformat": 4,
 "nbformat_minor": 2
}
