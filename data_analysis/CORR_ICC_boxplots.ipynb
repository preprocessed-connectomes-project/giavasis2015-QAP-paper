{
 "cells": [
  {
   "cell_type": "markdown",
   "metadata": {},
   "source": [
    "# Calculate ICC of QAP measures from CORR data\n",
    "Code to calculate the modern ICC version (using linear mixed-effects model).\n",
    "A lot is borrowed from AFNI's 3dICC_REML.R. Big shout out to the AFNI folks."
   ]
  },
  {
   "cell_type": "code",
   "execution_count": 1,
   "metadata": {
    "collapsed": false
   },
   "outputs": [
    {
     "name": "stderr",
     "output_type": "stream",
     "text": [
      "Loading required package: Matrix\n",
      "\n",
      "Attaching package: ‘dplyr’\n",
      "\n",
      "The following objects are masked from ‘package:stats’:\n",
      "\n",
      "    filter, lag\n",
      "\n",
      "The following objects are masked from ‘package:base’:\n",
      "\n",
      "    intersect, setdiff, setequal, union\n",
      "\n",
      "\n",
      "Attaching package: ‘tidyr’\n",
      "\n",
      "The following object is masked from ‘package:reshape2’:\n",
      "\n",
      "    smiths\n",
      "\n",
      "The following object is masked from ‘package:Matrix’:\n",
      "\n",
      "    expand\n",
      "\n",
      "\n",
      "Attaching package: ‘gridExtra’\n",
      "\n",
      "The following object is masked from ‘package:dplyr’:\n",
      "\n",
      "    combine\n",
      "\n"
     ]
    }
   ],
   "source": [
    "library(lme4)\n",
    "library(dplyr)\n",
    "library(reshape2)\n",
    "library(tidyr)\n",
    "library(ggplot2)\n",
    "library(grid)\n",
    "library(gridExtra)"
   ]
  },
  {
   "cell_type": "code",
   "execution_count": 2,
   "metadata": {
    "collapsed": true
   },
   "outputs": [],
   "source": [
    "#' ## ICC\n",
    "#' \n",
    "#' For each measure and site, we calculate the ICC.\n",
    "#' We do this with our own code so we can ensure non-negative values amongst other things.\n",
    "#' \n",
    "#+ calc-icc\n",
    "calc_icc <- function(x) {\n",
    "  # ICC Juicy Core\n",
    "    icc <- function(.) {\n",
    "        s_e = sigma(.)\n",
    "        s_a = unname(s_e * getME(., \"theta\"))\n",
    "        s_a^2 / (s_e^2 + s_a^2)\n",
    "    }\n",
    "\n",
    "    fmAOV <- lmer(value ~ 1 + Site + (1|Participant), sdf)\n",
    "\n",
    "#     system.time(boo01 <- bootMer(fmAOV, icc, nsim = 100))\n",
    "}"
   ]
  },
  {
   "cell_type": "markdown",
   "metadata": {},
   "source": [
    "## Read and tidy the CORR anatomical QAP measures"
   ]
  },
  {
   "cell_type": "code",
   "execution_count": 3,
   "metadata": {
    "collapsed": false
   },
   "outputs": [
    {
     "data": {
      "text/plain": [
       "         \n",
       "          session_1 session_2\n",
       "  BNU_1         350       350\n",
       "  BNU_2         427       427\n",
       "  HNU_1         210       210\n",
       "  IACAS         189       189\n",
       "  IBA_TRT        98        98\n",
       "  IPCAS_1       210       210\n",
       "  IPCAS_2       245       245\n",
       "  IPCAS_8        91        91\n",
       "  LMU_3         175       175\n",
       "  MRN           336       336\n",
       "  NYU_1         175       175\n",
       "  NYU_2         434       434\n",
       "  SWU_1         133       133\n",
       "  SWU_3         168       168\n",
       "  SWU_4        1638      1638\n",
       "  UM            560       560\n",
       "  UPSM_1        693       693\n",
       "  Utah_1        133       133\n",
       "  UWM           175       175\n",
       "  XHCUMS        168       168"
      ]
     },
     "metadata": {},
     "output_type": "display_data"
    }
   ],
   "source": [
    "# read the data\n",
    "corr_anat_qa<-read.csv(\"2016_05_CORR_qap_anatomical_spatial.csv\")\n",
    "\n",
    "# reduce to the columns that we are interested in\n",
    "id.vars=c('Participant','Site','Session','Series')\n",
    "measure.vars=c('CNR','Cortical.Contrast','EFC','FBER','FWHM','Qi1','SNR')\n",
    "\n",
    "corr_anat_qa<-corr_anat_qa[c(id.vars,measure.vars)]\n",
    "\n",
    "# Filter 1\n",
    "# Use only the first scan from sessions 1 & 2\n",
    "corr_anat_qa <-  corr_anat_qa %>% \n",
    "                  filter(Series == 'anat_1') %>% \n",
    "                   filter(Session %in% c('session_1','session_2'))\n",
    "corr_anat_qa$Series <- droplevels(corr_anat_qa$Series)\n",
    "corr_anat_qa$Session <- droplevels(corr_anat_qa$Session)\n",
    "\n",
    "# Filter 2 \n",
    "# remove participants that do not have two sessions of data\n",
    "pts_keep <- (corr_anat_qa %>% \n",
    "             group_by(Participant) %>% \n",
    "              summarise(N=n()) %>%\n",
    "               filter(N>1))$Participant\n",
    "corr_anat_qa <-  corr_anat_qa %>% \n",
    "                  filter(Participant %in% pts_keep)\n",
    "# corr_anat_qa$Participant <- droplevels(corr_anat_qa$Participant)\n",
    "\n",
    "# Filter 3 \n",
    "# remove Sites that have fewer than 5 pts\n",
    "sites_keep <- (corr_anat_qa %>% \n",
    "                 group_by(Site,Session) %>% \n",
    "                   summarise(N=n()) %>%\n",
    "                     filter(N>5))$Site\n",
    "\n",
    "corr_anat_qa <-  corr_anat_qa %>% \n",
    "                  filter(Site %in% sites_keep)\n",
    "corr_anat_qa$Site <- droplevels(corr_anat_qa$Site)\n",
    "\n",
    "corr_anat_qa <- corr_anat_qa %>% \n",
    "                  melt(id.vars=id.vars,\n",
    "                       measure.vars=measure.vars,\n",
    "                       variable.name=\"Measure\")\n",
    "\n",
    "corr_anat_qa$Participant <- factor(corr_anat_qa$Participant)\n",
    "\n",
    "table(corr_anat_qa$Site, corr_anat_qa$Session)"
   ]
  },
  {
   "cell_type": "code",
   "execution_count": null,
   "metadata": {
    "collapsed": false
   },
   "outputs": [],
   "source": [
    "library(boot)\n",
    "sdf<-corr_anat_qa %>% \n",
    "       filter(Measure == 'FWHM') %>% \n",
    "         spread(Session, value)\n",
    "\n",
    "icc <- function(data, indices) {\n",
    "  d <- data[indices,] %>% \n",
    "         melt(id.vars=c('Participant','Site',\n",
    "                        'Series','Measure'),\n",
    "              measure.vars=c('session_1','session_2'),\n",
    "                        variable.name=\"Session\")\n",
    "  fit <- lmer(value ~ 1 + Site + (1|Participant), d)\n",
    "  s_e = sigma(fit)\n",
    "  s_a2 = VarCorr(fit)[[1]][1]\n",
    "  return(s_a2 / (s_e^2 + s_a2))\n",
    "}\n",
    "\n",
    "system.time(results <- boot(data=sdf, statistic=icc, R=1000))"
   ]
  },
  {
   "cell_type": "code",
   "execution_count": null,
   "metadata": {
    "collapsed": true
   },
   "outputs": [],
   "source": [
    "# sdf<-corr_anat_qa %>% \n",
    "#        filter(Measure == 'FWHM') %>% \n",
    "#          spread(Session, value)\n",
    "\n",
    "# icc <- function(data, indices) {\n",
    "#   d <- data[indices,] %>% \n",
    "#          melt(id.vars=c('Participant','Site',\n",
    "#                         'Series','Measure'),\n",
    "#               measure.vars=c('session_1','session_2'),\n",
    "#                         variable.name=\"Session\")\n",
    "#   fit <- lmer(value ~ 1 + Site + (1|Participant), d)\n",
    "#   s_e = sigma(fit)\n",
    "#   s_a2 = VarCorr(fit)[[1]][1]\n",
    "#   return(s_a2 / (s_e^2 + s_a2))\n",
    "# }\n",
    "\n",
    "# bootstrap_ci <- function(nboot, data, boot_fun) {\n",
    "#     data_len = nrow(sdf)\n",
    "#     resamples <- lapply(1:nboot, function(i) sample(data_len, replace = T))\n",
    "#     t0<-boot_fun(sdf,seq(1,data_len))\n",
    "#     t_bs<-vector(mode=\"numeric\",length=nboot)\n",
    "        \n",
    "#     for( i in 1:length(resamples) ){\n",
    "#         t_bs[i] = icc(sdf,resamples[[i]])\n",
    "#         if (i %% 100 == 0){\n",
    "#             print(sprintf(\"%d %lf\",i,t_bs[i]))\n",
    "#         }\n",
    "#     }\n",
    "    \n",
    "#     return(list(t0=t0,t_bs=t_bs))\n",
    "# }\n",
    "# system.time(tt <- bootstrap_ci(100,sdf,icc))"
   ]
  },
  {
   "cell_type": "code",
   "execution_count": null,
   "metadata": {
    "collapsed": false
   },
   "outputs": [],
   "source": []
  },
  {
   "cell_type": "code",
   "execution_count": null,
   "metadata": {
    "collapsed": false
   },
   "outputs": [],
   "source": [
    "boot.ci(results)"
   ]
  },
  {
   "cell_type": "code",
   "execution_count": null,
   "metadata": {
    "collapsed": true
   },
   "outputs": [],
   "source": []
  }
 ],
 "metadata": {
  "anaconda-cloud": {},
  "kernelspec": {
   "display_name": "R",
   "language": "R",
   "name": "ir"
  },
  "language_info": {
   "codemirror_mode": "r",
   "file_extension": ".r",
   "mimetype": "text/x-r-source",
   "name": "R",
   "pygments_lexer": "r",
   "version": "3.3.1"
  }
 },
 "nbformat": 4,
 "nbformat_minor": 1
}
