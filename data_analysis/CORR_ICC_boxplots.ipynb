{
 "cells": [
  {
   "cell_type": "markdown",
   "metadata": {},
   "source": [
    "# Calculate ICC of QAP measures from CORR data\n",
    "Code to calculate the modern ICC version (using linear mixed-effects model).\n",
    "A lot is borrowed from AFNI's 3dICC_REML.R. Big shout out to the AFNI folks."
   ]
  },
  {
   "cell_type": "code",
   "execution_count": 1,
   "metadata": {
    "collapsed": false
   },
   "outputs": [
    {
     "name": "stderr",
     "output_type": "stream",
     "text": [
      "Loading required package: Matrix\n",
      "\n",
      "Attaching package: ‘dplyr’\n",
      "\n",
      "The following objects are masked from ‘package:stats’:\n",
      "\n",
      "    filter, lag\n",
      "\n",
      "The following objects are masked from ‘package:base’:\n",
      "\n",
      "    intersect, setdiff, setequal, union\n",
      "\n",
      "\n",
      "Attaching package: ‘tidyr’\n",
      "\n",
      "The following object is masked from ‘package:reshape2’:\n",
      "\n",
      "    smiths\n",
      "\n",
      "The following object is masked from ‘package:Matrix’:\n",
      "\n",
      "    expand\n",
      "\n",
      "\n",
      "Attaching package: ‘gridExtra’\n",
      "\n",
      "The following object is masked from ‘package:dplyr’:\n",
      "\n",
      "    combine\n",
      "\n"
     ]
    }
   ],
   "source": [
    "library(lme4)\n",
    "library(dplyr)\n",
    "library(reshape2)\n",
    "library(tidyr)\n",
    "library(ggplot2)\n",
    "library(grid)\n",
    "library(gridExtra)\n",
    "library(boot)\n",
    "library(repr)"
   ]
  },
  {
   "cell_type": "code",
   "execution_count": 2,
   "metadata": {
    "collapsed": false
   },
   "outputs": [],
   "source": [
    "\n",
    "## ICC\n",
    "#' \n",
    "#' For each measure, we calculate the ICC using bootstrap to estimate confidence intervals.\n",
    "#' We do this with our own code so we can ensure non-negative values amongst other things.\n",
    "#' \n",
    "icc <- function(data, indices) {\n",
    "  d <- data[indices,] %>% \n",
    "         melt(id.vars=c('Participant','Site',\n",
    "                        'Series','Measure'),\n",
    "              measure.vars=c('session_1','session_2'),\n",
    "                        variable.name=\"Session\")\n",
    "  fit <- lmer(value ~ 1 + Site + (1|Participant), d)\n",
    "  s_e = sigma(fit)\n",
    "  s_a2 = VarCorr(fit)[[1]][1]\n",
    "  return(s_a2 / (s_e^2 + s_a2))\n",
    "}"
   ]
  },
  {
   "cell_type": "markdown",
   "metadata": {},
   "source": [
    "## CORR anatomical QAP measures\n",
    "\n",
    "### read and tidy the data"
   ]
  },
  {
   "cell_type": "code",
   "execution_count": 4,
   "metadata": {
    "collapsed": false
   },
   "outputs": [
    {
     "data": {
      "text/plain": [
       "         \n",
       "          session_1 session_2\n",
       "  BNU_1         350       350\n",
       "  BNU_2         427       427\n",
       "  HNU_1         210       210\n",
       "  IACAS         189       189\n",
       "  IBA_TRT        98        98\n",
       "  IPCAS_1       210       210\n",
       "  IPCAS_2       245       245\n",
       "  IPCAS_8        91        91\n",
       "  LMU_3         175       175\n",
       "  MRN           336       336\n",
       "  NYU_1         175       175\n",
       "  NYU_2         434       434\n",
       "  SWU_1         133       133\n",
       "  SWU_3         168       168\n",
       "  SWU_4        1638      1638\n",
       "  UM            560       560\n",
       "  UPSM_1        686       686\n",
       "  Utah_1        133       133\n",
       "  UWM           175       175\n",
       "  XHCUMS        168       168"
      ]
     },
     "metadata": {},
     "output_type": "display_data"
    }
   ],
   "source": [
    "# read the data\n",
    "corr_anat_qa<-read.csv(\"2016_05_CORR_qap_anatomical_spatial.csv\")\n",
    "\n",
    "# reduce to the columns that we are interested in\n",
    "id.vars=c('Participant','Site','Session','Series')\n",
    "measure.vars=c('CNR','Cortical.Contrast','EFC','FBER','FWHM','Qi1','SNR')\n",
    "corr_anat_qa<-corr_anat_qa[c(id.vars,measure.vars)]\n",
    "\n",
    "# Filter 1\n",
    "# Use only the first scan from sessions 1 & 2\n",
    "corr_anat_qa <-  corr_anat_qa %>% \n",
    "                  filter(Series == 'anat_1') %>% \n",
    "                   filter(Session %in% c('session_1','session_2'))\n",
    "corr_anat_qa$Series <- droplevels(corr_anat_qa$Series)\n",
    "corr_anat_qa$Session <- droplevels(corr_anat_qa$Session)\n",
    "\n",
    "# Filter 2 \n",
    "# remove participants that do not have two sessions of data\n",
    "pts_keep <- (corr_anat_qa %>% \n",
    "             group_by(Participant) %>% \n",
    "              summarise(N=n()) %>%\n",
    "               filter(N>1))$Participant\n",
    "corr_anat_qa <-  corr_anat_qa %>% \n",
    "                  filter(Participant %in% pts_keep)\n",
    "# corr_anat_qa$Participant <- droplevels(corr_anat_qa$Participant)\n",
    "\n",
    "# Filter 3 \n",
    "# remove Sites that have fewer than 5 pts\n",
    "sites_keep <- (corr_anat_qa %>% \n",
    "                 group_by(Site,Session) %>% \n",
    "                   summarise(N=n()) %>%\n",
    "                     filter(N>5))$Site\n",
    "\n",
    "corr_anat_qa <-  corr_anat_qa %>% \n",
    "                  filter(Site %in% sites_keep)\n",
    "corr_anat_qa$Site <- droplevels(corr_anat_qa$Site)\n",
    "\n",
    "corr_anat_qa <- corr_anat_qa %>% \n",
    "                  melt(id.vars=id.vars,\n",
    "                       measure.vars=measure.vars,\n",
    "                       variable.name=\"Measure\")\n",
    "\n",
    "corr_anat_qa$Participant <- factor(corr_anat_qa$Participant)\n",
    "\n",
    "# one last thing, remove 25296, they are an outlier on motion\n",
    "corr_anat_qa <- corr_anat_qa %>% filter(Participant != 25296)\n",
    "\n",
    "table(corr_anat_qa$Site, corr_anat_qa$Session)"
   ]
  },
  {
   "cell_type": "markdown",
   "metadata": {},
   "source": [
    "### calculate ICC"
   ]
  },
  {
   "cell_type": "markdown",
   "metadata": {},
   "source": [
    "    n_boot=1000\n",
    "    icc_dc<-data_frame()\n",
    "    for (measure in unique(corr_anat_qa$Measure)){\n",
    "        sdf<-corr_anat_qa %>% \n",
    "               filter(Measure == measure) %>% \n",
    "                 spread(Session, value)\n",
    "        system.time(results <- boot(data=sdf, statistic=icc, R=n_boot, parallel=\"multicore\", ncpus=20, strata=sdf$Site))\n",
    "        icc_dc<-rbind(icc_dc,data_frame(Measure=rep(measure,n_boot),Iteration=seq(1,n_boot),Value=as.vector(results$t)))\n",
    "    }\n",
    "    write.table(icc_dc, file = \"corr_anat_spat.csv\")"
   ]
  },
  {
   "cell_type": "markdown",
   "metadata": {},
   "source": [
    "## CORR functional QAP measures\n",
    "\n",
    "### read and tidy the data"
   ]
  },
  {
   "cell_type": "code",
   "execution_count": 5,
   "metadata": {
    "collapsed": false
   },
   "outputs": [
    {
     "data": {
      "text/plain": [
       "         \n",
       "          session_1 session_2\n",
       "  BNU_1         500       500\n",
       "  BNU_2         610       610\n",
       "  HNU_1         300       300\n",
       "  IACAS         270       270\n",
       "  IBA_TRT       140       140\n",
       "  IPCAS_1       300       300\n",
       "  IPCAS_2       350       350\n",
       "  IPCAS_8       130       130\n",
       "  LMU_3         250       250\n",
       "  MRN           390       420\n",
       "  NYU_1         250       250\n",
       "  NYU_2         620       620\n",
       "  SWU_1         190       190\n",
       "  SWU_3         240       240\n",
       "  SWU_4        2330      2330\n",
       "  UM            800       800\n",
       "  UPSM_1        980       980\n",
       "  Utah_1        190       190\n",
       "  UWM           250       250\n",
       "  XHCUMS        240       240"
      ]
     },
     "metadata": {},
     "output_type": "display_data"
    }
   ],
   "source": [
    "# read the data\n",
    "corr_func_qa<-read.csv(\"2016_05_CoRR_qap_functional_spatial.csv\")\n",
    "\n",
    "# reduce to the columns that we are interested in\n",
    "id.vars=c('Participant','Site','Session','Series')\n",
    "measure.vars=c('EFC','FBER','FWHM','Ghost_y','SNR')\n",
    "corr_func_qa<-corr_func_qa[c(id.vars,measure.vars)]\n",
    "\n",
    "# read in the temporal measures\n",
    "tdf<-read.csv(\"2016_05_CORR_qap_functional_temporal.csv\")\n",
    "tmeasure.vars=c('Fraction.of.Outliers..Mean.','GCOR','Quality..Mean.',\n",
    "                'RMSD..Mean.','Std..DVARS..Mean.')\n",
    "tdf<-tdf[c(id.vars,tmeasure.vars)]\n",
    "\n",
    "# combine the datasets\n",
    "corr_func_qa<-merge(corr_func_qa,tdf,by=id.vars)\n",
    "measure.vars<-c(measure.vars,tmeasure.vars)\n",
    "\n",
    "# Filter 1\n",
    "# Use only the first scan from sessions 1 & 2\n",
    "corr_func_qa <-  corr_func_qa %>% \n",
    "                  filter(Series == 'rest_1') %>% \n",
    "                   filter(Session %in% c('session_1','session_2'))\n",
    "corr_func_qa$Series <- droplevels(corr_func_qa$Series)\n",
    "corr_func_qa$Session <- droplevels(corr_func_qa$Session)\n",
    "\n",
    "# Filter 2 \n",
    "# reduce to same participants in anatomical analysis\n",
    "corr_func_qa <-  corr_func_qa %>% \n",
    "                  filter(Participant %in% corr_anat_qa$Participant)\n",
    "corr_func_qa$Site <- droplevels(corr_func_qa$Site)\n",
    "\n",
    "# mult table to make a seperate row for each obs of each measure\n",
    "corr_func_qa <- corr_func_qa %>% \n",
    "                  melt(id.vars=id.vars,\n",
    "                       measure.vars=measure.vars,\n",
    "                       variable.name=\"Measure\")\n",
    "\n",
    "# make sure that participant is a factor\n",
    "corr_func_qa$Participant <- factor(corr_func_qa$Participant)\n",
    "\n",
    "table(corr_func_qa$Site, corr_func_qa$Session)"
   ]
  },
  {
   "cell_type": "markdown",
   "metadata": {},
   "source": [
    "### Calculate ICC"
   ]
  },
  {
   "cell_type": "markdown",
   "metadata": {},
   "source": [
    "\n",
    "    n_boot=1000\n",
    "    icc_dc<-data_frame()\n",
    "    for (measure in unique(corr_func_qa$Measure)){\n",
    "        print(sprintf(\"Calculating ICC for %s\", measure))\n",
    "        sdf<-corr_func_qa %>% \n",
    "               filter(Measure == measure) %>% \n",
    "                 spread(Session, value)\n",
    "        results <- boot(data=sdf, statistic=icc, R=n_boot, \n",
    "                        parallel=\"multicore\", ncpus=20, strata=sdf$Site)\n",
    "        icc_dc<-rbind(icc_dc,\n",
    "                      data_frame(Measure=rep(measure,n_boot),\n",
    "                                 Iteration=seq(1,n_boot),\n",
    "                                 Value=as.vector(results$t)))\n",
    "    }\n",
    "    write.table(icc_dc, file = \"corr_func_icc_meanfd.csv\")"
   ]
  },
  {
   "cell_type": "markdown",
   "metadata": {},
   "source": [
    "## Create the figures"
   ]
  },
  {
   "cell_type": "code",
   "execution_count": 86,
   "metadata": {
    "collapsed": false
   },
   "outputs": [
    {
     "data": {
      "text/html": [
       "<table>\n",
       "<thead><tr><th scope=col>Measure</th><th scope=col>Iteration</th><th scope=col>Value</th><th scope=col>Datasource</th></tr></thead>\n",
       "<tbody>\n",
       "\t<tr><td>CNR           </td><td>1             </td><td>0.6624920     </td><td>Structural MRI</td></tr>\n",
       "\t<tr><td>CNR           </td><td>2             </td><td>0.6545427     </td><td>Structural MRI</td></tr>\n",
       "\t<tr><td>CNR           </td><td>3             </td><td>0.6429974     </td><td>Structural MRI</td></tr>\n",
       "\t<tr><td>CNR           </td><td>4             </td><td>0.6359006     </td><td>Structural MRI</td></tr>\n",
       "\t<tr><td>CNR           </td><td>5             </td><td>0.6603972     </td><td>Structural MRI</td></tr>\n",
       "\t<tr><td>CNR           </td><td>6             </td><td>0.6160225     </td><td>Structural MRI</td></tr>\n",
       "</tbody>\n",
       "</table>\n"
      ],
      "text/latex": [
       "\\begin{tabular}{r|llll}\n",
       " Measure & Iteration & Value & Datasource\\\\\n",
       "\\hline\n",
       "\t CNR            & 1              & 0.6624920      & Structural MRI\\\\\n",
       "\t CNR            & 2              & 0.6545427      & Structural MRI\\\\\n",
       "\t CNR            & 3              & 0.6429974      & Structural MRI\\\\\n",
       "\t CNR            & 4              & 0.6359006      & Structural MRI\\\\\n",
       "\t CNR            & 5              & 0.6603972      & Structural MRI\\\\\n",
       "\t CNR            & 6              & 0.6160225      & Structural MRI\\\\\n",
       "\\end{tabular}\n"
      ],
      "text/markdown": [
       "\n",
       "Measure | Iteration | Value | Datasource | \n",
       "|---|---|---|---|---|---|\n",
       "| CNR            | 1              | 0.6624920      | Structural MRI | \n",
       "| CNR            | 2              | 0.6545427      | Structural MRI | \n",
       "| CNR            | 3              | 0.6429974      | Structural MRI | \n",
       "| CNR            | 4              | 0.6359006      | Structural MRI | \n",
       "| CNR            | 5              | 0.6603972      | Structural MRI | \n",
       "| CNR            | 6              | 0.6160225      | Structural MRI | \n",
       "\n",
       "\n"
      ],
      "text/plain": [
       "  Measure Iteration Value     Datasource    \n",
       "1 CNR     1         0.6624920 Structural MRI\n",
       "2 CNR     2         0.6545427 Structural MRI\n",
       "3 CNR     3         0.6429974 Structural MRI\n",
       "4 CNR     4         0.6359006 Structural MRI\n",
       "5 CNR     5         0.6603972 Structural MRI\n",
       "6 CNR     6         0.6160225 Structural MRI"
      ]
     },
     "metadata": {},
     "output_type": "display_data"
    }
   ],
   "source": [
    "# read the sMRI values\n",
    "icc_df_smri<-read.table(\"corr_anat_spat.csv\")\n",
    "icc_df_smri$Datasource<-\"Structural MRI\"\n",
    "\n",
    "# read the fMRI values\n",
    "icc_df_fmri<-read.table(\"corr_func_icc_meanfd.csv\")\n",
    "icc_df_fmri$Datasource<-\"Functional MRI\"\n",
    "\n",
    "# combine into s single dataframe\n",
    "icc_df<-rbind(icc_df_smri,icc_df_fmri)\n",
    "\n",
    "head(icc_df)"
   ]
  },
  {
   "cell_type": "code",
   "execution_count": 87,
   "metadata": {
    "collapsed": false
   },
   "outputs": [],
   "source": [
    "df<-icc_df\n",
    "levels(df$Measure)<-list(CNR='CNR',\n",
    "                         CC='Cortical.Contrast',\n",
    "                         EFC='EFC',\n",
    "                         FBER='FBER',\n",
    "                         FWHM='FWHM',\n",
    "                         FAV='Qi1',\n",
    "                         SNR='SNR',\n",
    "                         GSR='Ghost_y',\n",
    "                         MFO='Fraction.of.Outliers..Mean.',\n",
    "                         GCOR='GCOR',\n",
    "                         MQI='Quality..Mean.',\n",
    "                         MRMSD='RMSD..Mean.',\n",
    "                         MDVRS='Std..DVARS..Mean.')"
   ]
  },
  {
   "cell_type": "code",
   "execution_count": 88,
   "metadata": {
    "collapsed": false
   },
   "outputs": [],
   "source": [
    "g_legend<-function(a.gplot){\n",
    "  tmp <- ggplot_gtable(ggplot_build(a.gplot))\n",
    "  leg <- which(sapply(tmp$grobs, function(x) x$name) == \"guide-box\")\n",
    "  legend <- tmp$grobs[[leg]]\n",
    "  return(legend)}\n",
    "                      \n",
    "options(repr.plot.width=180.0/25.4, repr.plot.height=3)\n",
    "nrow=1\n",
    "ncol=3\n",
    "strat_var='Measure'\n",
    "cols=c(\"#78a22f\",\"#f58025\",\"#ffd457\",\"#d75920\")\n",
    "icc_interp=data_frame(x1=c(0,0,0,0),\n",
    "                     x2=c(+Inf,+Inf,+Inf,+Inf),\n",
    "                     y1=c(0.0,0.4,0.6,0.75),\n",
    "                     y2=c(0.4,0.6,0.75,1.2),\n",
    "                     Interp=factor(c(\"Poor\",\"Fair\",\"Good\",\"Excellent\")))\n",
    "\n",
    "\n",
    "    \n",
    "    mean_sdlow<-function(x) (mean(x)-sd(x))\n",
    "        \n",
    "    mean_sdhigh<-function(x) (mean(x)+sd(x))\n",
    "    \n",
    "    vplayout <- function(x, y) viewport(layout.pos.row = x, layout.pos.col = y)\n",
    "\n",
    "    pval_thresh=c(0.05,0.01,0.001,0.0001)\n",
    "    pval_indicators=c(\"*\",\"**\",\"***\",\"****\")\n",
    "        \n",
    "    datasource.vars = unique(df$Datasource)\n",
    "        \n",
    "    p=list()\n",
    "\n",
    "    for (i in seq(1,length( datasource.vars)))\n",
    "    {\n",
    "        # get only the rows corresponding to this measure\n",
    "        sdf<- df %>% filter(Datasource == datasource.vars[i])\n",
    "        sdf_ranges <- sdf %>% \n",
    "                       group_by_(as.formula(sprintf('%s ~ .',strat_var))) %>% \n",
    "                         summarise(y=mean(Value),y.max=mean_sdhigh(Value),y.min=mean_sdlow(Value)) %>% \n",
    "                             ungroup\n",
    "        \n",
    "        val_range=quantile(sdf$value, probs = c(0.02,.98))\n",
    "        val_range[\"2%\"]=min(val_range[\"2%\"],min(sdf_ranges$y.min))\n",
    "        val_range[\"98%\"]=max(val_range[\"98%\"],max(sdf_ranges$y.max))\n",
    "        \n",
    "        x_string=sprintf(\"as.factor(%s)\",strat_var)\n",
    "        p[[i]] <- ggplot() + \n",
    "            geom_blank(data=sdf, aes_string(x=x_string, y='Value')) +  \n",
    "            geom_rect(data=icc_interp, mapping=aes(xmin=x1, xmax=x2, \n",
    "                                                   ymin=y1, ymax=y2,\n",
    "                                                   fill=Interp), alpha=0.25) +\n",
    "            scale_fill_manual(values = cols, \n",
    "                              guide=guide_legend(title = \"ICC Values\",\n",
    "                                                 direction = \"horizontal\",\n",
    "                                                 title.position = \"top\",\n",
    "                                                 title.hjust = 0.5,\n",
    "                                                 title.theme = element_text(family = \"ArialMT\",\n",
    "                                                                            face = \"plain\",\n",
    "                                                                            size = 10,\n",
    "                                                                            angle = 0,\n",
    "                                                                            vjust = 0,\n",
    "                                                                            hjust = 0),\n",
    "                                                 label.theme = element_text(family = \"ArialMT\",\n",
    "                                                                 face = \"plain\",\n",
    "                                                                 size = 8, \n",
    "                                                                 angle = 0, \n",
    "                                                                 hjust = 1))) +\n",
    "            geom_boxplot(data=sdf, aes_string(x=x_string, y='Value'),\n",
    "                         outlier.shape = NA, width=.5, fill='white') + \n",
    "            theme_bw() +\n",
    "            ggtitle(datasource.vars[[i]])+\n",
    "            xlab(\"\")+\n",
    "            ylab(\"ICC(2,1)\")+\n",
    "            theme(plot.title = element_text(family = \"ArialMT\",\n",
    "                                             face = \"plain\",\n",
    "                                             size = 10,\n",
    "                                             vjust = 0,\n",
    "                                             hjust = 0.5),\n",
    "                  axis.text.x = element_text(family = \"ArialMT\",\n",
    "                                             face = \"plain\",\n",
    "                                             size = 8, \n",
    "                                             angle = 45, \n",
    "                                             hjust = 1),\n",
    "                  axis.text.y = element_text(family = \"ArialMT\", \n",
    "                                             face = \"plain\", \n",
    "                                             size = 8, \n",
    "                                             angle = 90, \n",
    "                                             hjust = 0.5),\n",
    "                  axis.title.y = element_text(family = \"ArialMT\", \n",
    "                                              face = \"plain\", \n",
    "                                              size = 10, \n",
    "                                              angle = 90, \n",
    "                                              vjust = 0.9),\n",
    "                  plot.margin = unit(c(.25, .25, 0.25, .25), \n",
    "                                     \"lines\")) +    \n",
    "             coord_cartesian(ylim=c(0.2,1.0))\n",
    "\n",
    "        # get the location of this plot in the grid\n",
    "        if(i==1) y=1\n",
    "        if(i==2) y=3\n",
    "        x=1\n",
    "    }\n",
    "# dev.off()"
   ]
  },
  {
   "cell_type": "code",
   "execution_count": 92,
   "metadata": {
    "collapsed": false
   },
   "outputs": [
    {
     "data": {
      "image/png": "[encoded data removed]",
      "text/plain": [
       "plot without title"
      ]
     },
     "metadata": {},
     "output_type": "display_data"
    }
   ],
   "source": [
    "options(repr.plot.width=180.0/25.4, repr.plot.height=3.5)\n",
    "# extract the legend\n",
    "lay <- rbind(c(1,1,1,1,1,1,1,NA,2,2,2,2,2,2,2,2,2,2),\n",
    "             c(3,3,3,3,3,3,3,3,3,3,3,3,3,3,3,3,3,3))\n",
    "\n",
    "g <- ggplotGrob(p[[1]] + theme(legend.position=\"bottom\"))$grobs\n",
    "legend <- g[[which(sapply(g, function(x) x$name) == \"guide-box\")]]\n",
    "lheight <- sum(legend$height)\n",
    "\n",
    "grid.arrange(\n",
    "    p[[1]] + theme(legend.position=\"none\"),\n",
    "    p[[2]] + theme(legend.position=\"none\"),\n",
    "    legend,\n",
    "    layout_matrix=lay,\n",
    "    heights=unit(c(3.0,0.5), c(\"in\",\"in\")))"
   ]
  },
  {
   "cell_type": "code",
   "execution_count": 93,
   "metadata": {
    "collapsed": false
   },
   "outputs": [
    {
     "data": {
      "text/html": [
       "<strong>png:</strong> 2"
      ],
      "text/latex": [
       "\\textbf{png:} 2"
      ],
      "text/markdown": [
       "**png:** 2"
      ],
      "text/plain": [
       "png \n",
       "  2 "
      ]
     },
     "metadata": {},
     "output_type": "display_data"
    }
   ],
   "source": [
    "pdf(\"icc_plot.pdf\", width = 180.0/25.4, height = 3.5, family=\"ArialMT\")\n",
    "grid.arrange(\n",
    "    p[[1]] + theme(legend.position=\"none\"),\n",
    "    p[[2]] + theme(legend.position=\"none\"),\n",
    "    legend,\n",
    "    layout_matrix=lay,\n",
    "    heights=unit(c(3.0,0.5), c(\"in\",\"in\")))\n",
    "dev.off()"
   ]
  },
  {
   "cell_type": "code",
   "execution_count": null,
   "metadata": {
    "collapsed": true
   },
   "outputs": [],
   "source": []
  }
 ],
 "metadata": {
  "anaconda-cloud": {},
  "kernelspec": {
   "display_name": "R",
   "language": "R",
   "name": "ir"
  },
  "language_info": {
   "codemirror_mode": "r",
   "file_extension": ".r",
   "mimetype": "text/x-r-source",
   "name": "R",
   "pygments_lexer": "r",
   "version": "3.3.2"
  }
 },
 "nbformat": 4,
 "nbformat_minor": 1
}
